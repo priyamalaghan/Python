{
 "cells": [
  {
   "cell_type": "markdown",
   "id": "869a0e8d",
   "metadata": {},
   "source": [
    "- String is a sequence of unicode characters enclosed in quotes\n",
    "- Methods are associated with the objects of the class they belong to. Functions are not associated with any object. Functions operate on the data you pass to them as arguments. Methods are dependent on the class they belong to.\n",
    "- Unicode, on the other hand, has tens of thousands of characters. That means that each Unicode character takes more than one byte\n",
    "- The items of a string are characters. There is no separate character type; a character is represented by a string of one item. Characters represent (at least) 8-bit bytes.\n",
    "- Strings are immutable sequences\n",
    "\n",
    "**-----------------------------------------------------------------------------------**\n",
    "\n",
    "- Unicode character and UFT-8 enconding\n",
    "    - ASCII : 128 characters\n",
    "    - Extended ASCII character : 256 character. Added some latin,greek symbols.\n",
    "    - Need 8 bit to represent character.\n",
    "    - All other characters (including entire world symbols Japanese, Hindi) are considered as unicode character.\n",
    "    - Unicode characters are represented in UTF format. UFT : Unicode characteristics transformation table.\n",
    "    - There are UTF-8,UTF-16,UTF-32 ---------------------\n",
    "    - Python by default use UTF-8 encodig system\n",
    "- Use the \"\\u\" escape sequence to print Unicode characters."
   ]
  },
  {
   "cell_type": "markdown",
   "id": "ea45a290",
   "metadata": {},
   "source": [
    "# Basics"
   ]
  },
  {
   "cell_type": "markdown",
   "id": "39340511",
   "metadata": {},
   "source": [
    "**Unicode String**\n",
    "- Normal strings in Python are stored internally as 8-bit ASCII, while Unicode strings are stored as 16-bit Unicode"
   ]
  },
  {
   "cell_type": "code",
   "execution_count": 1,
   "id": "8f94750f",
   "metadata": {},
   "outputs": [
    {
     "name": "stdout",
     "output_type": "stream",
     "text": [
      "Hello, world!\n"
     ]
    }
   ],
   "source": [
    "print(u'Hello, world!')"
   ]
  },
  {
   "cell_type": "markdown",
   "id": "90c5cfe3",
   "metadata": {},
   "source": [
    "**Raw String** \n",
    "- r/R : Suppresses actual meaning of Escape characters."
   ]
  },
  {
   "cell_type": "code",
   "execution_count": 2,
   "id": "5a2628b3",
   "metadata": {},
   "outputs": [
    {
     "name": "stdout",
     "output_type": "stream",
     "text": [
      "C:\\nowhere\n",
      "C:\\\\nowhere\n"
     ]
    }
   ],
   "source": [
    "print('C:\\\\nowhere')\n",
    "print(r'C:\\\\nowhere')"
   ]
  },
  {
   "cell_type": "code",
   "execution_count": 3,
   "id": "4026c053",
   "metadata": {},
   "outputs": [
    {
     "name": "stdout",
     "output_type": "stream",
     "text": [
      "\\n and \\n\n",
      "\\\\n\n"
     ]
    }
   ],
   "source": [
    "print(r'\\n and \\n') \n",
    "print(R'\\\\n')"
   ]
  },
  {
   "cell_type": "code",
   "execution_count": 4,
   "id": "f215281b",
   "metadata": {},
   "outputs": [
    {
     "name": "stdout",
     "output_type": "stream",
     "text": [
      "\n",
      " and \n",
      "\n"
     ]
    }
   ],
   "source": [
    "print('\\n and \\n') "
   ]
  },
  {
   "cell_type": "markdown",
   "id": "8480168c",
   "metadata": {},
   "source": [
    "**single quote, double quote or triple quote strings**"
   ]
  },
  {
   "cell_type": "code",
   "execution_count": 5,
   "id": "26ecb4a3",
   "metadata": {},
   "outputs": [
    {
     "name": "stdout",
     "output_type": "stream",
     "text": [
      "Adam D'Angelo\n",
      "Joh\"n\n",
      "Har\"ry\n",
      "Har'ry\n",
      "bang'''lor'''e\n",
      "Adam'D'A\n"
     ]
    }
   ],
   "source": [
    "name = \"Adam D'Angelo\"\n",
    "name1 = 'Joh\"n'\n",
    "name2 = '''Har\"ry'''\n",
    "name3 = '''Har'ry'''\n",
    "print(name)\n",
    "print(name1)\n",
    "print(name2)\n",
    "print(name3)\n",
    "print(\"bang'''lor'''e\")\n",
    "print(\"Adam'D'A\")"
   ]
  },
  {
   "cell_type": "code",
   "execution_count": 6,
   "id": "5c9c5887",
   "metadata": {
    "scrolled": true
   },
   "outputs": [
    {
     "data": {
      "text/plain": [
       "['__add__',\n",
       " '__class__',\n",
       " '__contains__',\n",
       " '__delattr__',\n",
       " '__dir__',\n",
       " '__doc__',\n",
       " '__eq__',\n",
       " '__format__',\n",
       " '__ge__',\n",
       " '__getattribute__',\n",
       " '__getitem__',\n",
       " '__getnewargs__',\n",
       " '__gt__',\n",
       " '__hash__',\n",
       " '__init__',\n",
       " '__init_subclass__',\n",
       " '__iter__',\n",
       " '__le__',\n",
       " '__len__',\n",
       " '__lt__',\n",
       " '__mod__',\n",
       " '__mul__',\n",
       " '__ne__',\n",
       " '__new__',\n",
       " '__reduce__',\n",
       " '__reduce_ex__',\n",
       " '__repr__',\n",
       " '__rmod__',\n",
       " '__rmul__',\n",
       " '__setattr__',\n",
       " '__sizeof__',\n",
       " '__str__',\n",
       " '__subclasshook__',\n",
       " 'capitalize',\n",
       " 'casefold',\n",
       " 'center',\n",
       " 'count',\n",
       " 'encode',\n",
       " 'endswith',\n",
       " 'expandtabs',\n",
       " 'find',\n",
       " 'format',\n",
       " 'format_map',\n",
       " 'index',\n",
       " 'isalnum',\n",
       " 'isalpha',\n",
       " 'isascii',\n",
       " 'isdecimal',\n",
       " 'isdigit',\n",
       " 'isidentifier',\n",
       " 'islower',\n",
       " 'isnumeric',\n",
       " 'isprintable',\n",
       " 'isspace',\n",
       " 'istitle',\n",
       " 'isupper',\n",
       " 'join',\n",
       " 'ljust',\n",
       " 'lower',\n",
       " 'lstrip',\n",
       " 'maketrans',\n",
       " 'partition',\n",
       " 'removeprefix',\n",
       " 'removesuffix',\n",
       " 'replace',\n",
       " 'rfind',\n",
       " 'rindex',\n",
       " 'rjust',\n",
       " 'rpartition',\n",
       " 'rsplit',\n",
       " 'rstrip',\n",
       " 'split',\n",
       " 'splitlines',\n",
       " 'startswith',\n",
       " 'strip',\n",
       " 'swapcase',\n",
       " 'title',\n",
       " 'translate',\n",
       " 'upper',\n",
       " 'zfill']"
      ]
     },
     "execution_count": 6,
     "metadata": {},
     "output_type": "execute_result"
    }
   ],
   "source": [
    "dir(str) #methods in str class"
   ]
  },
  {
   "cell_type": "code",
   "execution_count": 7,
   "id": "cec58059",
   "metadata": {},
   "outputs": [
    {
     "name": "stdout",
     "output_type": "stream",
     "text": [
      "\n",
      "    Summary line.\n",
      "    Extended description of function.\n",
      "    Parameters:\n",
      "    arg1 (int): Description of arg1\n",
      "    Returns:\n",
      "    int: Description of return value\n",
      "  \n",
      "    \n",
      "Help on function my_function in module __main__:\n",
      "\n",
      "my_function(arg1)\n",
      "    Summary line.\n",
      "    Extended description of function.\n",
      "    Parameters:\n",
      "    arg1 (int): Description of arg1\n",
      "    Returns:\n",
      "    int: Description of return value\n",
      "\n"
     ]
    }
   ],
   "source": [
    "#Doc Stirng\n",
    "def my_function(arg1):\n",
    "    \"\"\"\n",
    "    Summary line.\n",
    "    Extended description of function.\n",
    "    Parameters:\n",
    "    arg1 (int): Description of arg1\n",
    "    Returns:\n",
    "    int: Description of return value\n",
    "  \n",
    "    \"\"\"\n",
    "    return arg1\n",
    "  \n",
    "print(my_function.__doc__)\n",
    "help(my_function) #Also help(classname) to access class docstring"
   ]
  },
  {
   "cell_type": "markdown",
   "id": "786ad672",
   "metadata": {},
   "source": [
    "**Format Symbol**"
   ]
  },
  {
   "cell_type": "markdown",
   "id": "020bac8f",
   "metadata": {},
   "source": [
    "- %c character\n",
    "- %s string conversion via str prior to formatting\n",
    "- %i signed decimal integer\n",
    "- %d signed decimal integer\n",
    "- %u unsigned decimal integer\n",
    "- %o octal integer\n",
    "- %x hexadecimal integer lowercaseletters\n",
    "- %X hexadecimal integer UPPERcaseletters\n",
    "- %e exponential notation withlowercase′e′\n",
    "- %E exponential notation withUPPERcase′E′\n",
    "- %f floating point real number\n",
    "- %g the shorter of %f and %e\n",
    "- %G the shorter of %f and %E"
   ]
  },
  {
   "cell_type": "markdown",
   "id": "9683809f",
   "metadata": {},
   "source": [
    "**String Special Operators**\n",
    "- '+': Concatenation\n",
    "- '*' Repetition\n",
    "- [] Slice\n",
    "- [ : ] Range Slice\n",
    "- in Membership\n",
    "- not in Membership\n",
    "- r/R Raw String\n",
    "- % Format"
   ]
  },
  {
   "cell_type": "markdown",
   "id": "681e98f8",
   "metadata": {},
   "source": [
    "**Updating strings**"
   ]
  },
  {
   "cell_type": "code",
   "execution_count": 8,
   "id": "3eb91e66",
   "metadata": {},
   "outputs": [
    {
     "name": "stdout",
     "output_type": "stream",
     "text": [
      "updated string: hello world\n"
     ]
    }
   ],
   "source": [
    "var1 = \"hello python\"\n",
    "print(\"updated string:\",var1[:6]+\"world\")"
   ]
  },
  {
   "cell_type": "code",
   "execution_count": 9,
   "id": "c0606066",
   "metadata": {},
   "outputs": [
    {
     "name": "stdout",
     "output_type": "stream",
     "text": [
      "hello \n"
     ]
    }
   ],
   "source": [
    "print(var1[:6])"
   ]
  },
  {
   "cell_type": "markdown",
   "id": "e2ee9309",
   "metadata": {},
   "source": [
    "# String Methods"
   ]
  },
  {
   "cell_type": "markdown",
   "id": "9e024861",
   "metadata": {},
   "source": [
    "**Formatting output using the String method**\n",
    "- str.rjust() \n",
    "    - Returns the string right justified in a string of specified length.\n",
    "    - rjust( len, fillchr )\n",
    "- str.ljust()\n",
    "    - Returns the string left justified in a string of specified length.\n",
    "    - ljust( len, fillchr )\n",
    "- str.centre()\n",
    "    - Returns the string centered in a string of specified length.\n",
    "    - center( len, fillchr )\n",
    "- zfill\n",
    "    - Returns the numeric string left filled with zeros in a string of specified length.\n",
    "    - Syntax\n",
    "        - str. zfill(width)\n",
    "            - width : Required. Width of the padding field.\n",
    "        - Return Value : str\n",
    "- expandtabs\n",
    "    - Returns a copy of the string where all tab characters were replaced by spaces.\n",
    "    - Syntax:\n",
    "        - str. expandtabs([tabsize])\n",
    "            - tabsize :Optional. Size of the tab; default step is 8.\n",
    "        - Return Value : str"
   ]
  },
  {
   "cell_type": "code",
   "execution_count": 10,
   "id": "bdeec2ff",
   "metadata": {},
   "outputs": [
    {
     "name": "stdout",
     "output_type": "stream",
     "text": [
      "str.center()\n",
      "geeksforgeeks\n",
      "   geeksforgeeks    \n",
      "***geeksforgeeks****\n",
      "\n",
      " str.ljust\n",
      "   geeksforgeeks    \n",
      "geeksforgeeks       \n",
      "geeksforgeeks*******\n",
      "\n",
      " str.rjust\n",
      "   geeksforgeeks    \n",
      "       geeksforgeeks\n",
      "*******geeksforgeeks\n"
     ]
    }
   ],
   "source": [
    "cstr = \"geeksforgeeks\"\n",
    "print(\"str.center()\")\n",
    "print(cstr)\n",
    "print(cstr.center(20))\n",
    "print(cstr.center(20,'*'))\n",
    "print(\"\\n str.ljust\")\n",
    "print(cstr.center(20))\n",
    "print(cstr.ljust(20))\n",
    "print(cstr.ljust(20,'*'))\n",
    "print(\"\\n str.rjust\")\n",
    "print(cstr.center(20))\n",
    "print(cstr.rjust(20))\n",
    "print(cstr.rjust(20,'*'))"
   ]
  },
  {
   "cell_type": "code",
   "execution_count": 11,
   "id": "7146c1d6",
   "metadata": {},
   "outputs": [
    {
     "name": "stdout",
     "output_type": "stream",
     "text": [
      "350\n",
      "350\n",
      "350\n",
      "0350\n",
      "0000000350\n",
      "00000000000000000350\n",
      "-0350\n"
     ]
    }
   ],
   "source": [
    "print('350'.zfill(1))\n",
    "print('350'.zfill(2))\n",
    "print('350'.zfill(3))\n",
    "print('350'.zfill(4))\n",
    "print('350'.zfill(10))\n",
    "print('350'.zfill(20))\n",
    "print('-350'.zfill(5))"
   ]
  },
  {
   "cell_type": "code",
   "execution_count": 12,
   "id": "51559c56",
   "metadata": {},
   "outputs": [
    {
     "name": "stdout",
     "output_type": "stream",
     "text": [
      "AA      BB\n",
      "\n",
      "AA  BB\n",
      "\n"
     ]
    }
   ],
   "source": [
    "print(\"AA\\tBB\\n\".expandtabs())\n",
    "print(\"AA\\tBB\\n\".expandtabs(4))"
   ]
  },
  {
   "cell_type": "markdown",
   "id": "3a2cb950",
   "metadata": {},
   "source": [
    "**Searching**\n",
    "- str.find()\n",
    "    - Returns the index of the first occurrence of the string searched for\n",
    "    - Syntax\n",
    "        - str.find(str, beg=0, end=len(string))\n",
    "        - return value is int\n",
    "        - Returns -1 if str is not found\n",
    "- str.rfind()\n",
    "    - Returns the index of the last occurrence of the string searched for\n",
    "    - Syntax\n",
    "        - str.rfind(str, beg=0, end=len(string))\n",
    "        - return value is int\n",
    "        - Returns -1 if str is not found"
   ]
  },
  {
   "cell_type": "code",
   "execution_count": 13,
   "id": "75305e31",
   "metadata": {},
   "outputs": [
    {
     "data": {
      "text/plain": [
       "1"
      ]
     },
     "execution_count": 13,
     "metadata": {},
     "output_type": "execute_result"
    }
   ],
   "source": [
    "\"ABCB\".find('B')"
   ]
  },
  {
   "cell_type": "code",
   "execution_count": 14,
   "id": "d98ccc0f",
   "metadata": {},
   "outputs": [
    {
     "data": {
      "text/plain": [
       "3"
      ]
     },
     "execution_count": 14,
     "metadata": {},
     "output_type": "execute_result"
    }
   ],
   "source": [
    "\"ABCB\".find('B',2)"
   ]
  },
  {
   "cell_type": "code",
   "execution_count": 15,
   "id": "42af8809",
   "metadata": {},
   "outputs": [
    {
     "name": "stdout",
     "output_type": "stream",
     "text": [
      "length of string1: 32\n",
      "15\n",
      "15\n",
      "-1\n"
     ]
    }
   ],
   "source": [
    "str1 = \"this is string example....wow!!!\";\n",
    "str2 = \"exam\";\n",
    "print(\"length of string1:\",len(str1))\n",
    "print(str1.find(str2))\n",
    "print(str1.find(str2, 10))\n",
    "print(str1.find(str2, 40))"
   ]
  },
  {
   "cell_type": "code",
   "execution_count": 16,
   "id": "fc0160c9",
   "metadata": {},
   "outputs": [
    {
     "data": {
      "text/plain": [
       "3"
      ]
     },
     "execution_count": 16,
     "metadata": {},
     "output_type": "execute_result"
    }
   ],
   "source": [
    "\"ABCB\".rfind('B')"
   ]
  },
  {
   "cell_type": "markdown",
   "id": "345a7403",
   "metadata": {},
   "source": [
    "- str.index()\n",
    "    - Returns the index of the first occurrence of the string searched for(raises ValueError if not found).\n",
    "    - Syntax\n",
    "        - str.index(str, beg=0, end=len(string))\n",
    "        - return value is int\n",
    "- str.rindex()\n",
    "    - Returns the index of the last occurrence of the string searched for(raises ValueError if not found).\n",
    "    - Syntax\n",
    "        - str.rindex(str, beg=0, end=len(string))\n",
    "        - return value is int"
   ]
  },
  {
   "cell_type": "code",
   "execution_count": 17,
   "id": "859022de",
   "metadata": {},
   "outputs": [
    {
     "name": "stdout",
     "output_type": "stream",
     "text": [
      "length of string1: 32\n",
      "15\n",
      "15\n"
     ]
    }
   ],
   "source": [
    "str1 = \"this is string example....wow!!!\";\n",
    "str2 = \"exam\";\n",
    "print(\"length of string1:\",len(str1))\n",
    "print(str1.index(str2))\n",
    "print(str1.rindex(str2))\n",
    "#print(str1.index(str2, 40)) #ValueError: substring not found"
   ]
  },
  {
   "cell_type": "markdown",
   "id": "41e03628",
   "metadata": {},
   "source": [
    "**Replacing**"
   ]
  },
  {
   "cell_type": "markdown",
   "id": "e692b9cc",
   "metadata": {},
   "source": [
    "- str.replace()\n",
    "    - Returns a copy of the string with a specified substring replaced specified number of times.\n",
    "    - Syntax\n",
    "        - str. replace(old, new[, count])\n",
    "        - count : Optional. Number of old occurrences to replace\n",
    "    - return value is str"
   ]
  },
  {
   "cell_type": "code",
   "execution_count": 18,
   "id": "7326c746",
   "metadata": {},
   "outputs": [
    {
     "data": {
      "text/plain": [
       "'abCab'"
      ]
     },
     "execution_count": 18,
     "metadata": {},
     "output_type": "execute_result"
    }
   ],
   "source": [
    "\"ABCAB\".replace('AB', 'ab')"
   ]
  },
  {
   "cell_type": "code",
   "execution_count": 19,
   "id": "1a04ee9f",
   "metadata": {},
   "outputs": [
    {
     "data": {
      "text/plain": [
       "'abCAB'"
      ]
     },
     "execution_count": 19,
     "metadata": {},
     "output_type": "execute_result"
    }
   ],
   "source": [
    "\"ABCAB\".replace('AB', 'ab', 1)"
   ]
  },
  {
   "cell_type": "code",
   "execution_count": 20,
   "id": "8756713c",
   "metadata": {},
   "outputs": [
    {
     "name": "stdout",
     "output_type": "stream",
     "text": [
      "thwas was string example....wow!!! thwas was really string\n",
      "thwas was string example....wow!!! thwas is really string\n"
     ]
    }
   ],
   "source": [
    "str1 = \"this is string example....wow!!! this is really string\"\n",
    "print(str1.replace(\"is\", \"was\"))\n",
    "print(str1.replace(\"is\", \"was\", 3))"
   ]
  },
  {
   "cell_type": "markdown",
   "id": "c5965270",
   "metadata": {},
   "source": [
    "- str.translate()\n",
    "    - Python string method translate() returns a copy of the string in which all characters have been translated using table (constructed with the maketrans() function in the string module), optionally deleting all characters found in the string deletechars.\n",
    "    - Syntax:\n",
    "        - str.translate(table[, deletechars])\n",
    "    - use the maketrans() helper function in the string module to create a translation table.\n",
    "    - return value is str"
   ]
  },
  {
   "cell_type": "code",
   "execution_count": 21,
   "id": "f47af5c6",
   "metadata": {},
   "outputs": [
    {
     "name": "stdout",
     "output_type": "stream",
     "text": [
      "th3s 3s str3ng 2x1mpl2....w4w!!!\n"
     ]
    }
   ],
   "source": [
    "intab = \"aeiou\"\n",
    "outtab = \"12345\"\n",
    "trantab = str.maketrans(intab, outtab)\n",
    "\n",
    "str1 = \"this is string example....wow!!!\";\n",
    "print(str1.translate(trantab))"
   ]
  },
  {
   "cell_type": "code",
   "execution_count": 22,
   "id": "969e58df",
   "metadata": {},
   "outputs": [
    {
     "name": "stdout",
     "output_type": "stream",
     "text": [
      "th3s 3s str3ng 21pl2....w4w!!!\n"
     ]
    }
   ],
   "source": [
    "intab = \"aeiou\"\n",
    "outtab = \"12345\"\n",
    "trantab = str.maketrans(intab, outtab, 'xm')\n",
    "\n",
    "str1 = \"this is string example....wow!!!\";\n",
    "print(str1.translate(trantab))"
   ]
  },
  {
   "cell_type": "code",
   "execution_count": 23,
   "id": "57a49989",
   "metadata": {},
   "outputs": [
    {
     "data": {
      "text/plain": [
       "'ADE'"
      ]
     },
     "execution_count": 23,
     "metadata": {},
     "output_type": "execute_result"
    }
   ],
   "source": [
    "table = str.maketrans('', '', 'BC')\n",
    "\"ABCDE\".translate(table)"
   ]
  },
  {
   "cell_type": "markdown",
   "id": "fb8e375f",
   "metadata": {},
   "source": [
    "**Leading and Trailing Characters**"
   ]
  },
  {
   "cell_type": "markdown",
   "id": "37a11b12",
   "metadata": {},
   "source": [
    "- str.strip()\n",
    "    - Returns a copy of the string with the leading and trailing characters removed\n",
    "    - Syntax:\n",
    "        - str. strip([chars])\n",
    "    - Return value is str\n",
    "- str.lstrip()\n",
    "    - Returns a copy of the string with the leading characters removed\n",
    "    - Syntax:\n",
    "        - str. lstrip([chars])\n",
    "    - Return value is str\n",
    "- str.rstrip()\n",
    "    - Returns a copy of the string with the trailing characters removed\n",
    "    - Syntax:\n",
    "        - str. rstrip([chars])\n",
    "    - Return value is str"
   ]
  },
  {
   "cell_type": "code",
   "execution_count": 24,
   "id": "54e89ffd",
   "metadata": {},
   "outputs": [
    {
     "name": "stdout",
     "output_type": "stream",
     "text": [
      "this is string example....wow!!!\n"
     ]
    }
   ],
   "source": [
    "str1 = \"0000000this is string example....wow!!!0000000\";\n",
    "print(str1.strip('0'))"
   ]
  },
  {
   "cell_type": "code",
   "execution_count": 25,
   "id": "4b6375c2",
   "metadata": {},
   "outputs": [
    {
     "data": {
      "text/plain": [
       "'spacious'"
      ]
     },
     "execution_count": 25,
     "metadata": {},
     "output_type": "execute_result"
    }
   ],
   "source": [
    "'   spacious   '.strip()"
   ]
  },
  {
   "cell_type": "code",
   "execution_count": 26,
   "id": "6207adf8",
   "metadata": {},
   "outputs": [
    {
     "name": "stdout",
     "output_type": "stream",
     "text": [
      "example\n",
      "B\n",
      "BAB\n",
      "\n",
      "C\n",
      "\n",
      "D\n"
     ]
    }
   ],
   "source": [
    "print(\"www.example.com\".strip('cmowz.'))\n",
    "print(\"AABAA\".strip(\"A\"))\n",
    "print(\"AABABAA\".strip(\"A\"))\n",
    "print(\"ABBA\".strip(\"AB\"))\n",
    "print(\"ABCABBA\".strip(\"BA\"))\n",
    "print(\"ABCABBA\".strip(\"BAC\"))\n",
    "print(\"ABCADBBA\".strip(\"BAC\"))"
   ]
  },
  {
   "cell_type": "code",
   "execution_count": 27,
   "id": "8e962d0a",
   "metadata": {},
   "outputs": [
    {
     "name": "stdout",
     "output_type": "stream",
     "text": [
      "example.com\n",
      "BAA\n",
      "BABAA\n",
      "\n",
      "CABBA\n",
      "\n",
      "DBBA\n"
     ]
    }
   ],
   "source": [
    "print(\"www.example.com\".lstrip('cmowz.'))\n",
    "print(\"AABAA\".lstrip(\"A\"))\n",
    "print(\"AABABAA\".lstrip(\"A\"))\n",
    "print(\"ABBA\".lstrip(\"AB\"))\n",
    "print(\"ABCABBA\".lstrip(\"BA\"))\n",
    "print(\"ABCABBA\".lstrip(\"BAC\"))\n",
    "print(\"ABCADBBA\".lstrip(\"BAC\"))"
   ]
  },
  {
   "cell_type": "code",
   "execution_count": 28,
   "id": "292e6e8f",
   "metadata": {},
   "outputs": [
    {
     "name": "stdout",
     "output_type": "stream",
     "text": [
      "www.example\n",
      "AAB\n",
      "AABAB\n",
      "\n",
      "ABC\n",
      "\n",
      "ABCAD\n"
     ]
    }
   ],
   "source": [
    "print(\"www.example.com\".rstrip('cmowz.'))\n",
    "print(\"AABAA\".rstrip(\"A\"))\n",
    "print(\"AABABAA\".rstrip(\"A\"))\n",
    "print(\"ABBA\".rstrip(\"AB\"))\n",
    "print(\"ABCABBA\".rstrip(\"BA\"))\n",
    "print(\"ABCABBA\".rstrip(\"BAC\"))\n",
    "print(\"ABCADBBA\".rstrip(\"BAC\"))"
   ]
  },
  {
   "cell_type": "markdown",
   "id": "6c3de079",
   "metadata": {},
   "source": [
    "**Changing Case**\n",
    "- return value is str for all below methods\n",
    "- str.upper()\n",
    "    - Returns a copy of the string in UPPER CASE.\n",
    "- str.lower()\n",
    "    - Returns a copy of the string in lower case.\n",
    "- str.capitalize()\n",
    "    - Returns a copy of the string in Capital case.\n",
    "- str.title()\n",
    "    - Returns a copy of the string in Title Case.\n",
    "- str.swapcase()\n",
    "    - Returns a copy of the string with case swapped."
   ]
  },
  {
   "cell_type": "code",
   "execution_count": 29,
   "id": "3c597ef0",
   "metadata": {},
   "outputs": [
    {
     "name": "stdout",
     "output_type": "stream",
     "text": [
      "ABC\n",
      "abc\n",
      "Abc\n",
      "abc\n",
      "Abc\n",
      "They'Re Bill'S Friends From The Uk\n",
      "They're bill's friends from the uk\n"
     ]
    }
   ],
   "source": [
    "print(\"abc\".upper())\n",
    "print(\"ABC\".lower())\n",
    "print(\"ABC\".title())\n",
    "print(\"ABC\".swapcase())\n",
    "print(\"ABC\".capitalize())\n",
    "print(\"they're bill's friends from the UK\".title())\n",
    "print(\"they're bill's friends from the UK\".capitalize())"
   ]
  },
  {
   "cell_type": "markdown",
   "id": "3da4cd8b",
   "metadata": {},
   "source": [
    "**Information**- \n",
    "- str.count()\n",
    "    - Returns the number of non-overlapping occurrences of a substring in the searched string.\n",
    "    - Syntax\n",
    "        - str. count(str,start,end]])\n",
    "    - Return value is int\n",
    "- str.startswith()\n",
    "    - Returns a Boolean stating whether a string starts with the specified prefix.\n",
    "    - Syntax:\n",
    "        - str.startswith(str, beg=0,end=len(string))   \n",
    "    - Return Value : This method returns true if found matching string otherwise false\n",
    "- str.endswith()\n",
    "    - Returns a Boolean stating whether a string ends with the specified suffix.\n",
    "    - Syntax:\n",
    "        - str.endswith(suffix, beg=0, end=len(string))\n",
    "    - Return Value : This method returns true if found matching string otherwise false\n",
    "- str.isalnum()\n",
    "    - Returns a Boolean stating whether the string contains only letters and digits.\n",
    "    - Return Value : bool\n",
    "- str.isalpha()\n",
    "    - Returns a Boolean stating whether the string contains only letters.\n",
    "    - Return Value : bool\n",
    "- str.isdigit()\n",
    "    - Returns a Boolean stating whether the string contains only digits.\n",
    "    - Return Value : bool\n",
    "- str.islower()\n",
    "    - Returns a Boolean stating whether the string is in lower case.\n",
    "    - Return Value : bool\n",
    "- str.isspace()\n",
    "    - Returns a Boolean stating whether the string contains only whitespace characters.\n",
    "    - Return Value : bool\n",
    "- str.istitle()\n",
    "    - Returns a Boolean stating whether the string is in Title case.\n",
    "    - Return Value : bool\n",
    "- str.isupper()\n",
    "    - Returns a Boolean stating whether the string is in UPPER CASE.\n",
    "    - Return Value : bool"
   ]
  },
  {
   "cell_type": "code",
   "execution_count": 131,
   "id": "266014e7",
   "metadata": {},
   "outputs": [
    {
     "name": "stdout",
     "output_type": "stream",
     "text": [
      "2\n",
      "1\n",
      "0\n",
      "0\n",
      "str.count(str, 4, 40):  2\n"
     ]
    }
   ],
   "source": [
    "print(\"ABCAB\".count(\"A\"))\n",
    "print(\"ABCAB\".count(\"A\", 1))\n",
    "print(\"ABCAB\".count(\"A\", 1, 2))\n",
    "print(\"ABCAB\".count(\"D\", 1, 2))\n",
    "str1 = \"this is string example....wow!!!\";\n",
    "print(\"str.count(sub_str, 4, 40): \", str1.count(\"i\", 4, 40))"
   ]
  },
  {
   "cell_type": "code",
   "execution_count": 2,
   "id": "6d1759d5",
   "metadata": {},
   "outputs": [
    {
     "name": "stdout",
     "output_type": "stream",
     "text": [
      "hellohello\n",
      "1\n",
      "b is rotation of a\n"
     ]
    }
   ],
   "source": [
    "#program to check string rotation\n",
    "a = \"hello\"\n",
    "b = 'lohel'\n",
    "if len(a)!=len(b):\n",
    "    print(\"b is not rotation of a\")\n",
    "else:\n",
    "    k = a+a\n",
    "    print(k)\n",
    "    count = k.count(b)\n",
    "    print(count)\n",
    "    if count>0:\n",
    "        print(\"b is rotation of a\")\n",
    "    else:\n",
    "        print(\"b is not rotation of a\")"
   ]
  },
  {
   "cell_type": "code",
   "execution_count": 31,
   "id": "627b2f81",
   "metadata": {},
   "outputs": [
    {
     "name": "stdout",
     "output_type": "stream",
     "text": [
      "True\n",
      "True\n",
      "False\n"
     ]
    }
   ],
   "source": [
    "str1 = \"this is string example this....wow!!!\";\n",
    "print(str1.startswith( 'this' ))\n",
    "print(str1.startswith( 'is', 2, 4 ))\n",
    "print(str1.startswith( 'this', 2, 4 ))"
   ]
  },
  {
   "cell_type": "code",
   "execution_count": 32,
   "id": "e4a50777",
   "metadata": {},
   "outputs": [
    {
     "name": "stdout",
     "output_type": "stream",
     "text": [
      "True\n",
      "True\n",
      "True\n",
      "False\n"
     ]
    }
   ],
   "source": [
    "str1 = \"this is string example....wow!!!\";\n",
    "\n",
    "suffix = \"wow!!!\";\n",
    "print(str1.endswith(suffix))\n",
    "print(str1.endswith(suffix,20))\n",
    "\n",
    "suffix = \"is\";\n",
    "print(str1.endswith(suffix, 2, 4)) # \"is\"\n",
    "print(str1.endswith(suffix, 2, 6)) # \"is i\""
   ]
  },
  {
   "cell_type": "code",
   "execution_count": 33,
   "id": "b45f8196",
   "metadata": {},
   "outputs": [
    {
     "name": "stdout",
     "output_type": "stream",
     "text": [
      "False\n",
      "True\n",
      "True\n",
      "True\n",
      "False\n"
     ]
    }
   ],
   "source": [
    "print(''.isalnum())\n",
    "print('abc123'.isalnum())\n",
    "print('abc'.isalnum())\n",
    "print('123'.isalnum())\n",
    "print('!@#'.isalnum())"
   ]
  },
  {
   "cell_type": "code",
   "execution_count": 34,
   "id": "20169460",
   "metadata": {},
   "outputs": [
    {
     "name": "stdout",
     "output_type": "stream",
     "text": [
      "False\n",
      "False\n",
      "True\n",
      "True\n",
      "False\n"
     ]
    }
   ],
   "source": [
    "print(''.isalpha())\n",
    "print('abc123'.isalpha())\n",
    "print('abc'.isalpha())\n",
    "print('ABC'.isalpha())\n",
    "print('!@#'.isalpha())"
   ]
  },
  {
   "cell_type": "code",
   "execution_count": 35,
   "id": "090edc15",
   "metadata": {},
   "outputs": [
    {
     "name": "stdout",
     "output_type": "stream",
     "text": [
      "False\n",
      "True\n",
      "False\n",
      "False\n",
      "False\n"
     ]
    }
   ],
   "source": [
    "print('abc123'.isdigit())\n",
    "print('123'.isdigit())\n",
    "print('!@#'.isdigit())\n",
    "print('   '.isdigit())\n",
    "print('abc'.isdigit())"
   ]
  },
  {
   "cell_type": "code",
   "execution_count": 36,
   "id": "6030e9c3",
   "metadata": {},
   "outputs": [
    {
     "name": "stdout",
     "output_type": "stream",
     "text": [
      "False\n",
      "True\n",
      "True\n",
      "False\n",
      "False\n",
      "False\n",
      "False\n"
     ]
    }
   ],
   "source": [
    "print(''.islower())\n",
    "print('abc123'.islower())\n",
    "print('abc'.islower())\n",
    "print('123'.islower())\n",
    "print('Abc'.islower())\n",
    "print('!@#'.islower())\n",
    "print('   '.islower())"
   ]
  },
  {
   "cell_type": "code",
   "execution_count": 37,
   "id": "6217a612",
   "metadata": {},
   "outputs": [
    {
     "name": "stdout",
     "output_type": "stream",
     "text": [
      "False\n",
      "True\n",
      "False\n",
      "False\n",
      "False\n",
      "False\n",
      "False\n",
      "True\n"
     ]
    }
   ],
   "source": [
    "print(''.isupper())\n",
    "print('ABC123'.isupper())\n",
    "print('abc'.isupper())\n",
    "print('123'.isupper())\n",
    "print('Abc'.isupper())\n",
    "print('!@#'.isupper())\n",
    "print('   '.isupper())\n",
    "print('ABC'.isupper())"
   ]
  },
  {
   "cell_type": "code",
   "execution_count": 38,
   "id": "8cadb2f9",
   "metadata": {},
   "outputs": [
    {
     "name": "stdout",
     "output_type": "stream",
     "text": [
      "False\n",
      "True\n"
     ]
    }
   ],
   "source": [
    "print(''.isspace())\n",
    "print('   '.isspace())"
   ]
  },
  {
   "cell_type": "code",
   "execution_count": 39,
   "id": "d285ea61",
   "metadata": {},
   "outputs": [
    {
     "name": "stdout",
     "output_type": "stream",
     "text": [
      "False\n",
      "False\n",
      "False\n",
      "False\n",
      "True\n",
      "False\n",
      "False\n",
      "False\n",
      "False\n"
     ]
    }
   ],
   "source": [
    "print(''.istitle())\n",
    "print('abc123'.istitle())\n",
    "print('abc'.istitle())\n",
    "print('123'.istitle())\n",
    "print('Abc Def'.istitle())\n",
    "print('Abc def'.istitle())\n",
    "print('!@#'.istitle())\n",
    "print('   '.istitle())\n",
    "print('ABC'.istitle())"
   ]
  },
  {
   "cell_type": "markdown",
   "id": "17031083",
   "metadata": {},
   "source": [
    "**Functions**\n",
    "- Note:collection: Required and Must be of sequence type.\n",
    "- len(collection)\n",
    "    - Returns an int type specifying number of elements in the collection.\n",
    "- min(collection)\n",
    "    - Syntax:\n",
    "        - min(iterable, key)\n",
    "        - key : (Optional. Default None.) Pass a function that takes a single argument and returns a comparable value. The function is then applied to each element in the list. Then, the method find the minimum based on the key function results rather than the elements themselves.\n",
    "    - Returns the smallest item from a collection.\n",
    "- max(collection)\n",
    "    - Returns the largest item in an iterable or the largest of two or more arguments.\n",
    "- cmp(object1, object2)\n",
    "    - cmp doesn't exist in Python 3. define your own\n",
    "    - Compares two objects and returns an integer according to the outcome.\n",
    "    - object1, object2 : Required. \n",
    "        - If objects are of a sequence type cmp performs lexical comparison. The return value is -1 if object1 < object2, 0 if object1 == object2 and 1 if object1 > object2.\n",
    "- sorted\n",
    "    - Returns a sorted list from the iterable.\n",
    "    - Syntax\n",
    "        - sorted (iterable[, cmp[, key[, reverse]]])\n",
    "- reversed(sequence)\n",
    "    - Returns a reverse iterator over a sequence.\n",
    "- all\n",
    "    - Returns a Boolean value that indicates whether the collection contains only values that evaluate to True.\n",
    "    - Refer to other.ipynb\n",
    "- any\n",
    "    - Returns a Boolean value that indicates whether the collection contains any values that evaluate to True.\n",
    "    - Refer to other.ipynb\n",
    "\n",
    "- enumerate\n",
    "    - Returns an enumerate object.\n",
    "    - Syntax:\n",
    "        - enumerate (sequence, start=0)\n",
    "        - start : Optional. Index at which enumeration starts.\n",
    "- zip\n",
    "    - Returns a list of tuples, where the i-th tuple contains the i-th element from each of the argument sequences or iterables.\n",
    "    - Syntax\n",
    "        - zip ([iterable, …])\n",
    "- chr((number)\n",
    "    - Returns a string of one character whose ASCII code is the specified number.\n",
    "    - Return value: str\n",
    "    - number:Required. Any integer within the 0-255 range.\n",
    "- ord(character)\n",
    "    - Returns an integer representing the code of the character.\n",
    "    - Return value: int\n",
    "- unichr(number)\n",
    "    - Returns a Unicode character specified by the code.\n",
    "    - Return Value : unicode\n",
    "- `format`_\n",
    "    - Returns a formatted string."
   ]
  },
  {
   "cell_type": "code",
   "execution_count": 40,
   "id": "9f0990d5",
   "metadata": {},
   "outputs": [
    {
     "name": "stdout",
     "output_type": "stream",
     "text": [
      "3\n",
      "3\n",
      "2\n",
      "2\n",
      "2\n",
      "Length of the string:  32\n"
     ]
    }
   ],
   "source": [
    "print(len('foo'))\n",
    "print(len([1,2,8]))\n",
    "print(len((1, 2)))\n",
    "print(len({'a': 1, 'b': 2}))\n",
    "print(len({1, 2}))\n",
    "str1 = \"this is string example....wow!!!\"\n",
    "print(\"Length of the string: \", len(str1))"
   ]
  },
  {
   "cell_type": "markdown",
   "id": "49b83559",
   "metadata": {},
   "source": [
    "- min() in list"
   ]
  },
  {
   "cell_type": "code",
   "execution_count": 4,
   "id": "9fae0663",
   "metadata": {},
   "outputs": [
    {
     "name": "stdout",
     "output_type": "stream",
     "text": [
      "[0, 4]\n",
      "[3, 1]\n"
     ]
    }
   ],
   "source": [
    "print(min([4, 2], [4, 1], [4, 0],[0, 4]))\n",
    "print(min([4, 2], [4, 1],[3, 1], [4, 0]))"
   ]
  },
  {
   "cell_type": "code",
   "execution_count": 42,
   "id": "7a0d8498",
   "metadata": {},
   "outputs": [
    {
     "name": "stdout",
     "output_type": "stream",
     "text": [
      "[0, 2, 0]\n",
      "[0, 2, 0]\n"
     ]
    }
   ],
   "source": [
    "lst = [[1, 1, 1], [0, 2, 0], [3, 3, -1]]\n",
    "print(min(lst))\n",
    "print(min(lst,key=lambda x: x[0]))"
   ]
  },
  {
   "cell_type": "code",
   "execution_count": 43,
   "id": "19360e52",
   "metadata": {},
   "outputs": [
    {
     "name": "stdout",
     "output_type": "stream",
     "text": [
      "[0, 2, 0]\n",
      "[3, 3, -1]\n"
     ]
    }
   ],
   "source": [
    "print(min(lst))\n",
    "print(min(lst,key=lambda x: x[2]))"
   ]
  },
  {
   "cell_type": "code",
   "execution_count": 44,
   "id": "c8c51951",
   "metadata": {},
   "outputs": [
    {
     "name": "stdout",
     "output_type": "stream",
     "text": [
      "[0, 2, 0]\n",
      "[1, 1, 1]\n"
     ]
    }
   ],
   "source": [
    "print(min(lst))\n",
    "print(min(lst,key=lambda x: x[1]))"
   ]
  },
  {
   "cell_type": "code",
   "execution_count": 45,
   "id": "27b86c72",
   "metadata": {},
   "outputs": [
    {
     "name": "stdout",
     "output_type": "stream",
     "text": [
      "[0, 2, 0]\n",
      "[1, 1, 1]\n"
     ]
    }
   ],
   "source": [
    "print(min(lst,key=sum))\n",
    "print(min(lst,key=max))"
   ]
  },
  {
   "cell_type": "markdown",
   "id": "06491541",
   "metadata": {},
   "source": [
    "- min() in string"
   ]
  },
  {
   "cell_type": "code",
   "execution_count": 46,
   "id": "a00d6402",
   "metadata": {},
   "outputs": [
    {
     "name": "stdout",
     "output_type": "stream",
     "text": [
      "!\n",
      "A\n",
      "1\n",
      "1\n",
      "!\n",
      "smallest_string = C Programming\n"
     ]
    }
   ],
   "source": [
    "print(min(\"dgf$%$@!\"))\n",
    "print(min(\"Aa\"))\n",
    "print(min(\"123\"))\n",
    "print(min(\"123abc\"))\n",
    "print(min(\"!23Abc\"))\n",
    "languages = [\"Python\", \"C Programming\", \"Java\", \"JavaScript\"]\n",
    "print(\"smallest_string =\",min(languages))"
   ]
  },
  {
   "cell_type": "markdown",
   "id": "deaf538c",
   "metadata": {},
   "source": [
    "- min() in dictionaries"
   ]
  },
  {
   "cell_type": "code",
   "execution_count": 5,
   "id": "332f0738",
   "metadata": {},
   "outputs": [
    {
     "name": "stdout",
     "output_type": "stream",
     "text": [
      "The smallest key: -2\n",
      "[2, 3, -1, -2]\n",
      "The key with the smallest value: -1\n",
      "The smallest value: 1\n"
     ]
    }
   ],
   "source": [
    "square = {2:4,3:9,-1:1,-2:4}\n",
    "\n",
    "# the smallest key\n",
    "key1 = min(square)\n",
    "print(\"The smallest key:\", key1)\n",
    "\n",
    "# the key whose value is the smallest\n",
    "list1 =[k for k in square]\n",
    "print(list1)\n",
    "\n",
    "key2 = min(square,key = lambda k: square[k])\n",
    "print(\"The key with the smallest value:\",key2)\n",
    "\n",
    "#key = lambda k: square[k]\n",
    "#The function returns the values of dictionaries. \n",
    "#Based on the values (rather than the dictionary's keys), the key having the minimum value is computed.\n",
    "\n",
    "# getting the smallest value\n",
    "print(\"The smallest value:\", square[key2])"
   ]
  },
  {
   "cell_type": "code",
   "execution_count": 48,
   "id": "6bb61d46",
   "metadata": {},
   "outputs": [
    {
     "name": "stdout",
     "output_type": "stream",
     "text": [
      "Pear\n",
      "apple\n"
     ]
    }
   ],
   "source": [
    "print(max('apple', 'Pear', key=lambda x: x.upper()))\n",
    "print(max('apple', 'Pear'))"
   ]
  },
  {
   "cell_type": "code",
   "execution_count": 49,
   "id": "dc2a201a",
   "metadata": {},
   "outputs": [
    {
     "name": "stdout",
     "output_type": "stream",
     "text": [
      "-1\n",
      "-1\n",
      "0\n",
      "-1\n",
      "1\n",
      "-1\n",
      "----------------\n",
      "0\n",
      "1\n",
      "-1\n"
     ]
    }
   ],
   "source": [
    "#cmp doesn't exist in Python 3\n",
    "def cmp(a,b):\n",
    "    return (a>b)- (a<b)\n",
    "print(cmp(1, 2))\n",
    "print(cmp(0, 1))\n",
    "print(cmp(1, 1))\n",
    "print(cmp(1, 2))\n",
    "print(cmp('foo', 'bar'))\n",
    "print(cmp([1, 2], [2, 1]))\n",
    "print(\"----------------\")\n",
    "print(False-False)\n",
    "print(True-False)\n",
    "print(False-True)"
   ]
  },
  {
   "cell_type": "code",
   "execution_count": 50,
   "id": "661c4153",
   "metadata": {},
   "outputs": [
    {
     "name": "stdout",
     "output_type": "stream",
     "text": [
      "['a', 'b', 'f', 'o', 'o', 'r']\n",
      "[3, 2, 1]\n",
      "[1, 2, 3]\n",
      "['Geeks', 'Red', 'cat']\n",
      "['a', 'b', 'c']\n"
     ]
    }
   ],
   "source": [
    "print(sorted('foobar'))\n",
    "print(sorted((3, 1, 2),reverse=True))\n",
    "print(sorted([3, 1, 2]))\n",
    "print(sorted([\"Geeks\",\"cat\",\"Red\"]))\n",
    "print(sorted({'a': 1, 'c': 3, 'b': 2}))"
   ]
  },
  {
   "cell_type": "code",
   "execution_count": 51,
   "id": "c73cfb37",
   "metadata": {},
   "outputs": [
    {
     "name": "stdout",
     "output_type": "stream",
     "text": [
      "['A', 'C', 'b']\n",
      "['A', 'b', 'C']\n",
      "[(1, 2), (1, 2, 3), (9,)]\n"
     ]
    }
   ],
   "source": [
    "print(sorted(['A', 'b', 'C']))\n",
    "print(sorted(['A', 'b', 'C'], key=lambda x: x.lower()))\n",
    "print(sorted(((9, ), (1, 2, 3), (1, 2)), key=lambda x: sum(x)))"
   ]
  },
  {
   "cell_type": "code",
   "execution_count": 52,
   "id": "28a83f36",
   "metadata": {},
   "outputs": [
    {
     "name": "stdout",
     "output_type": "stream",
     "text": [
      "<list_reverseiterator object at 0x0000024C9F623820>\n",
      "1 5 4 3 \n",
      "1\n",
      "5\n",
      "4\n",
      "3\n"
     ]
    }
   ],
   "source": [
    "print(reversed([3,4,5,1]))\n",
    "for i in reversed([3,4,5,1]):\n",
    "    print(i,end=' ')\n",
    "r = reversed([3,4,5,1])\n",
    "print()\n",
    "print(r.__next__()) #AttributeError: 'list_reverseiterator' object has no attribute 'next'\n",
    "print(r.__next__())\n",
    "print(r.__next__()) \n",
    "print(r.__next__())"
   ]
  },
  {
   "cell_type": "code",
   "execution_count": 53,
   "id": "021058f6",
   "metadata": {},
   "outputs": [
    {
     "name": "stdout",
     "output_type": "stream",
     "text": [
      "(0, 1)\n",
      "(1, 2)\n",
      "(2, 3)\n"
     ]
    }
   ],
   "source": [
    "for i in enumerate((1,2,3)):\n",
    "    print(i)"
   ]
  },
  {
   "cell_type": "code",
   "execution_count": 54,
   "id": "b5b3786a",
   "metadata": {},
   "outputs": [
    {
     "name": "stdout",
     "output_type": "stream",
     "text": [
      "(0, 1)\n",
      "(1, 2)\n",
      "(2, 3)\n"
     ]
    }
   ],
   "source": [
    "e = enumerate([1, 2, 3])\n",
    "print(e.__next__())\n",
    "print(e.__next__())\n",
    "print(e.__next__())"
   ]
  },
  {
   "cell_type": "code",
   "execution_count": 55,
   "id": "8ca39e2d",
   "metadata": {},
   "outputs": [
    {
     "name": "stdout",
     "output_type": "stream",
     "text": [
      "(1, 9)\n",
      "(2, 2)\n",
      "(3, 3)\n"
     ]
    }
   ],
   "source": [
    "e = enumerate([9,2,3,0,8,4],1)\n",
    "print(e.__next__())\n",
    "print(e.__next__())\n",
    "print(e.__next__())"
   ]
  },
  {
   "cell_type": "code",
   "execution_count": 56,
   "id": "4cf3b2a0",
   "metadata": {},
   "outputs": [
    {
     "name": "stdout",
     "output_type": "stream",
     "text": [
      "('f', 'b') ('o', 'a') ('o', 'r') "
     ]
    }
   ],
   "source": [
    "x = 'foo'\n",
    "y = 'bar'\n",
    "for z in zip(x,y):\n",
    "    print(z,end=\" \")"
   ]
  },
  {
   "cell_type": "code",
   "execution_count": 57,
   "id": "6a1efe0e",
   "metadata": {},
   "outputs": [
    {
     "name": "stdout",
     "output_type": "stream",
     "text": [
      "[('f', 'b'), ('o', 'a'), ('o', 'r')]\n"
     ]
    }
   ],
   "source": [
    "list1 = []\n",
    "for z in zip('foo','bar'):\n",
    "    list1.append(z)\n",
    "print(list1)"
   ]
  },
  {
   "cell_type": "code",
   "execution_count": 58,
   "id": "14eee138",
   "metadata": {},
   "outputs": [
    {
     "data": {
      "text/plain": [
       "<zip at 0x24c9f627380>"
      ]
     },
     "execution_count": 58,
     "metadata": {},
     "output_type": "execute_result"
    }
   ],
   "source": [
    "zip('foo','bar')"
   ]
  },
  {
   "cell_type": "code",
   "execution_count": 59,
   "id": "83633d07",
   "metadata": {},
   "outputs": [
    {
     "name": "stdout",
     "output_type": "stream",
     "text": [
      "[(1, 4), (2, 5), (3, 6)]\n"
     ]
    }
   ],
   "source": [
    "list1 = []\n",
    "for z in zip([1,2,3],[4,5,6]):\n",
    "    list1.append(z)\n",
    "print(list1)"
   ]
  },
  {
   "cell_type": "code",
   "execution_count": 60,
   "id": "2c4e8156",
   "metadata": {},
   "outputs": [
    {
     "name": "stdout",
     "output_type": "stream",
     "text": [
      "[(1, 4), (2, 5), (3, 6)]\n"
     ]
    }
   ],
   "source": [
    "list1 = []\n",
    "for z in zip([1,2,3],[4,5,6,7]):\n",
    "    list1.append(z)\n",
    "print(list1)"
   ]
  },
  {
   "cell_type": "code",
   "execution_count": 61,
   "id": "3ddfb7c5",
   "metadata": {},
   "outputs": [
    {
     "name": "stdout",
     "output_type": "stream",
     "text": [
      "[(1, 4, 9), (2, 5, 3), (3, 6, 1)]\n"
     ]
    }
   ],
   "source": [
    "list1 = []\n",
    "for z in zip([1,2,3],[4,5,6,7],[9,3,1]):\n",
    "    list1.append(z)\n",
    "print(list1)"
   ]
  },
  {
   "cell_type": "code",
   "execution_count": 62,
   "id": "d31b301d",
   "metadata": {},
   "outputs": [
    {
     "data": {
      "text/plain": [
       "[(1, 'b'), (2, 'a'), (3, 'c')]"
      ]
     },
     "execution_count": 62,
     "metadata": {},
     "output_type": "execute_result"
    }
   ],
   "source": [
    "s1 = {2, 3, 1}\n",
    "s2 = {'b', 'a', 'c'}\n",
    "list(zip(s1, s2))"
   ]
  },
  {
   "cell_type": "code",
   "execution_count": 63,
   "id": "5af3fbfe",
   "metadata": {},
   "outputs": [
    {
     "data": {
      "text/plain": [
       "[(2, 'b'), (3, 'a'), (1, 'c')]"
      ]
     },
     "execution_count": 63,
     "metadata": {},
     "output_type": "execute_result"
    }
   ],
   "source": [
    "s1 = [2, 3, 1]\n",
    "s2 = ['b', 'a', 'c']\n",
    "list(zip(s1, s2))"
   ]
  },
  {
   "cell_type": "code",
   "execution_count": 64,
   "id": "6fd55b77",
   "metadata": {},
   "outputs": [
    {
     "data": {
      "text/plain": [
       "[('a', 'd'), ('b', 'e'), ('c', 'f')]"
      ]
     },
     "execution_count": 64,
     "metadata": {},
     "output_type": "execute_result"
    }
   ],
   "source": [
    "s1 = {'a':2, 'b':3, 'c':1}\n",
    "s2 = {'d':4, 'e':5, 'f':6}\n",
    "list(zip(s1, s2))"
   ]
  },
  {
   "cell_type": "code",
   "execution_count": 65,
   "id": "807bc75d",
   "metadata": {},
   "outputs": [
    {
     "data": {
      "text/plain": [
       "[('a', 'd'), ('b', 'e'), ('c', 'f')]"
      ]
     },
     "execution_count": 65,
     "metadata": {},
     "output_type": "execute_result"
    }
   ],
   "source": [
    "s1 = {'a':2, 'b':3, 'c':1}\n",
    "s2 = ['d', 'e', 'f']\n",
    "list(zip(s1, s2))"
   ]
  },
  {
   "cell_type": "code",
   "execution_count": 66,
   "id": "5b52f032",
   "metadata": {},
   "outputs": [
    {
     "data": {
      "text/plain": [
       "[(1,), (2,), (3,)]"
      ]
     },
     "execution_count": 66,
     "metadata": {},
     "output_type": "execute_result"
    }
   ],
   "source": [
    "a = [1, 2, 3]\n",
    "zipped = zip(a)\n",
    "list(zipped)"
   ]
  },
  {
   "cell_type": "code",
   "execution_count": 67,
   "id": "ef8cdfad",
   "metadata": {},
   "outputs": [
    {
     "data": {
      "text/plain": [
       "[(1, 'a', 4.0), (2, 'b', 5.0), (3, 'c', 6.0)]"
      ]
     },
     "execution_count": 67,
     "metadata": {},
     "output_type": "execute_result"
    }
   ],
   "source": [
    "integers = [1, 2, 3]\n",
    "letters = ['a', 'b', 'c']\n",
    "floats = [4.0, 5.0, 6.0]\n",
    "zipped = zip(integers, letters, floats)  # Three input iterables\n",
    "list(zipped)"
   ]
  },
  {
   "cell_type": "code",
   "execution_count": 68,
   "id": "2d30cf6a",
   "metadata": {},
   "outputs": [
    {
     "data": {
      "text/plain": [
       "[(1, 'a', 0), (2, 'b', 1), (3, 'c', 2), ('?', '?', 3), ('?', '?', 4)]"
      ]
     },
     "execution_count": 68,
     "metadata": {},
     "output_type": "execute_result"
    }
   ],
   "source": [
    "#If trailing or unmatched values are important to you, then you can use itertools.zip_longest()\n",
    "from itertools import zip_longest\n",
    "numbers = [1, 2, 3]\n",
    "letters = ['a', 'b', 'c']\n",
    "longest = range(5)\n",
    "zipped = zip_longest(numbers, letters, longest, fillvalue='?')\n",
    "list(zipped)"
   ]
  },
  {
   "cell_type": "code",
   "execution_count": 69,
   "id": "6a233321",
   "metadata": {},
   "outputs": [
    {
     "name": "stdout",
     "output_type": "stream",
     "text": [
      "Letter: a\n",
      "Number: 0\n",
      "Letter: b\n",
      "Number: 1\n",
      "Letter: c\n",
      "Number: 2\n"
     ]
    }
   ],
   "source": [
    "letters = ['a', 'b', 'c']\n",
    "numbers = [0, 1, 2]\n",
    "for l, n in zip(letters, numbers):\n",
    "    print(f'Letter: {l}')\n",
    "    print(f'Number: {n}')"
   ]
  },
  {
   "cell_type": "code",
   "execution_count": 70,
   "id": "49ac3bdd",
   "metadata": {},
   "outputs": [
    {
     "name": "stdout",
     "output_type": "stream",
     "text": [
      "name : John\n",
      "name : Jane\n",
      "last_name : Doe\n",
      "last_name : Doe\n",
      "job : Python Consultant\n",
      "job : Community Manager\n"
     ]
    }
   ],
   "source": [
    "dict_one = {'name': 'John', 'last_name': 'Doe', 'job': 'Python Consultant'}\n",
    "dict_two = {'name': 'Jane', 'last_name': 'Doe', 'job': 'Community Manager'}\n",
    "for (k1,v1),(k2,v2) in zip(dict_one.items(),dict_two.items()):\n",
    "    print(k1 ,':', v1)\n",
    "    print(k2 ,':', v2)"
   ]
  },
  {
   "cell_type": "code",
   "execution_count": 71,
   "id": "a51eb4a7",
   "metadata": {},
   "outputs": [
    {
     "name": "stdout",
     "output_type": "stream",
     "text": [
      "(1, 2, 3, 4)\n",
      "('a', 'b', 'c', 'd')\n"
     ]
    }
   ],
   "source": [
    "# unzipping\n",
    "pairs = [(1, 'a'), (2, 'b'), (3, 'c'), (4, 'd')]\n",
    "#pairs = [(1, ), (2, ), (3, ), (4, )] #ValueError: not enough values to unpack (expected 2, got 1)\n",
    "numbers,letters = zip(*pairs)\n",
    "print(numbers)\n",
    "print(letters)"
   ]
  },
  {
   "cell_type": "code",
   "execution_count": 72,
   "id": "2a8fbf94",
   "metadata": {},
   "outputs": [
    {
     "name": "stdout",
     "output_type": "stream",
     "text": [
      "Sort by letters\n",
      "[('b', 2), ('a', 4), ('d', 3), ('c', 1)]\n",
      "[('a', 4), ('b', 2), ('c', 1), ('d', 3)]\n",
      "Sort by numbers\n",
      "[(2, 'b'), (4, 'a'), (3, 'd'), (1, 'c')]\n",
      "[(1, 'c'), (2, 'b'), (3, 'd'), (4, 'a')]\n"
     ]
    }
   ],
   "source": [
    "#Zip and Sort in Parallel\n",
    "\n",
    "print(\"Sort by letters\")\n",
    "letters = ['b', 'a', 'd', 'c']\n",
    "numbers = [2, 4, 3, 1]\n",
    "data1 = list(zip(letters, numbers))\n",
    "print(data1)\n",
    "data1.sort()\n",
    "print(data1)\n",
    "\n",
    "print(\"Sort by numbers\")\n",
    "letters = ['b', 'a', 'd', 'c']\n",
    "numbers = [2, 4, 3, 1]\n",
    "data2 = list(zip(numbers,letters))\n",
    "print(data2)\n",
    "print(sorted(data2))"
   ]
  },
  {
   "cell_type": "code",
   "execution_count": 73,
   "id": "4e9c684b",
   "metadata": {},
   "outputs": [
    {
     "name": "stdout",
     "output_type": "stream",
     "text": [
      "[(1, 'c'), (2, 'b'), (3, 'd'), (4, 'a')]\n"
     ]
    }
   ],
   "source": [
    "letters = ['b', 'a', 'd', 'c']\n",
    "numbers = [2, 4, 3, 1]\n",
    "data2 = sorted(zip(numbers,letters))\n",
    "print(data2)"
   ]
  },
  {
   "cell_type": "code",
   "execution_count": 74,
   "id": "9bce0786",
   "metadata": {},
   "outputs": [
    {
     "name": "stdout",
     "output_type": "stream",
     "text": [
      "{'name': 'John', 'last_name': 'Doe', 'age': '45', 'job': 'Python Developer'}\n",
      "{'name': 'John', 'last_name': 'Doe', 'age': '45', 'job': 'Python Consultant'}\n"
     ]
    }
   ],
   "source": [
    "fields = ['name', 'last_name', 'age', 'job']\n",
    "values = ['John', 'Doe', '45', 'Python Developer']\n",
    "a_dict = dict(zip(fields,values))\n",
    "print(a_dict)\n",
    "a_dict.update(zip(['job'],['Python Consultant']))\n",
    "print(a_dict)"
   ]
  },
  {
   "cell_type": "code",
   "execution_count": 75,
   "id": "0e8bb645",
   "metadata": {},
   "outputs": [
    {
     "name": "stdout",
     "output_type": "stream",
     "text": [
      "Total profit: 5200.0\n",
      "Total profit: 5100.0\n",
      "Total profit: 4800.0\n"
     ]
    }
   ],
   "source": [
    "total_sales = [52000.00, 51000.00, 48000.00]\n",
    "prod_cost = [46800.00, 45900.00, 43200.00]\n",
    "for sales, cost in zip(total_sales,prod_cost):\n",
    "    profit = sales-cost\n",
    "    print(\"Total profit: {}\".format(profit))"
   ]
  },
  {
   "cell_type": "code",
   "execution_count": 76,
   "id": "22a56056",
   "metadata": {},
   "outputs": [
    {
     "name": "stdout",
     "output_type": "stream",
     "text": [
      "A\n",
      "[\n",
      "✐\n",
      "†\n"
     ]
    }
   ],
   "source": [
    "print(chr(65))\n",
    "print(chr(91))\n",
    "print(chr(10000))\n",
    "print(chr(8224))"
   ]
  },
  {
   "cell_type": "code",
   "execution_count": 77,
   "id": "80ec4b14",
   "metadata": {},
   "outputs": [
    {
     "name": "stdout",
     "output_type": "stream",
     "text": [
      "33\n",
      "72\n",
      "32\n"
     ]
    }
   ],
   "source": [
    "print(ord('!'))\n",
    "print(ord('H'))\n",
    "print(ord(' '))"
   ]
  },
  {
   "cell_type": "code",
   "execution_count": 78,
   "id": "abe73ec7",
   "metadata": {},
   "outputs": [
    {
     "data": {
      "text/plain": [
       "8224"
      ]
     },
     "execution_count": 78,
     "metadata": {},
     "output_type": "execute_result"
    }
   ],
   "source": [
    "ord(u'\\u2020')"
   ]
  },
  {
   "cell_type": "markdown",
   "id": "0f145662",
   "metadata": {},
   "source": [
    "**Operators**\n",
    "- [] (index operator)\n",
    "    - Gives access to a sequence’s element.\n",
    "    - Syntax:\n",
    "        - sequence [index]\n",
    "        - index : Index of the item you want to access. Must be an integer.\n",
    "- [::] (slicing)\n",
    "    - Gives access to a specified range of sequence’s elements.\n",
    "    - Syntax:\n",
    "        - sequence [start:stop[:step]]\n",
    "- [+] (concatenation)\n",
    "    - Returns a concatenation of two sequences.\n",
    "- [*] (multiple concatenation)\n",
    "    - Returns a sequence self-concatenated specified amount of times."
   ]
  },
  {
   "cell_type": "code",
   "execution_count": 79,
   "id": "b71c3bed",
   "metadata": {},
   "outputs": [
    {
     "name": "stdout",
     "output_type": "stream",
     "text": [
      "eeks\n",
      "9\n",
      "str2\n",
      "4\n",
      "2\n"
     ]
    }
   ],
   "source": [
    "print(\"Geeks\"[1:])\n",
    "print([1,4,9][2])\n",
    "print([\"Str1\",\"str2\",\"str3\"][1])\n",
    "print([[1,3],[4,0]][1][0])\n",
    "print((0,1,2)[-1])"
   ]
  },
  {
   "cell_type": "code",
   "execution_count": 80,
   "id": "2c7ba610",
   "metadata": {},
   "outputs": [
    {
     "data": {
      "text/plain": [
       "['ABCD', 2, 3]"
      ]
     },
     "execution_count": 80,
     "metadata": {},
     "output_type": "execute_result"
    }
   ],
   "source": [
    "li = [0,9,2,3]\n",
    "li[0] = \"ABCD\"\n",
    "del li[1]\n",
    "li"
   ]
  },
  {
   "cell_type": "code",
   "execution_count": 81,
   "id": "1ade4b89",
   "metadata": {},
   "outputs": [
    {
     "name": "stdout",
     "output_type": "stream",
     "text": [
      "BCDefgh\n",
      "ABC\n",
      "BC\n",
      "BC\n",
      "ACeg\n",
      "ABCDefgh\n",
      "ABCDefgh\n",
      "DCBA\n",
      "[3, 2, 1, 0]\n",
      "efg\n",
      "hgfe\n",
      "BCDef\n"
     ]
    }
   ],
   "source": [
    "print(\"ABCDefgh\"[1:])\n",
    "print(\"ABCDefgh\"[:3])\n",
    "print(\"ABCDefgh\"[1:3])\n",
    "print(\"ABCDefgh\"[1:3:])\n",
    "print(\"ABCDefgh\"[::2])\n",
    "print(\"ABCDefgh\"[::])\n",
    "print(\"ABCDefgh\"[:])\n",
    "print(\"ABCD\"[::-1])\n",
    "print([0, 1, 2, 3][::-1])\n",
    "print(\"ABCDefgh\"[-4:-1])\n",
    "print(\"ABCDefgh\"[-1:3:-1])\n",
    "print(\"ABCDefgh\"[1:-2])"
   ]
  },
  {
   "cell_type": "code",
   "execution_count": 82,
   "id": "cc2e7037",
   "metadata": {},
   "outputs": [
    {
     "data": {
      "text/plain": [
       "['AB', 'CD', 2, 3]"
      ]
     },
     "execution_count": 82,
     "metadata": {},
     "output_type": "execute_result"
    }
   ],
   "source": [
    "# slices can be used to replace multiple items\n",
    "li  = [0, 1, 2, 3]\n",
    "li[:2] = (\"AB\", \"CD\")\n",
    "li"
   ]
  },
  {
   "cell_type": "code",
   "execution_count": 83,
   "id": "4fac9e59",
   "metadata": {},
   "outputs": [
    {
     "data": {
      "text/plain": [
       "[0, 7, 8, 9, 10, 2, 3]"
      ]
     },
     "execution_count": 83,
     "metadata": {},
     "output_type": "execute_result"
    }
   ],
   "source": [
    "li  = [0, 1, 2, 3]\n",
    "li[1:2] = (7,8,9,10)\n",
    "li"
   ]
  },
  {
   "cell_type": "code",
   "execution_count": 84,
   "id": "bbe128b1",
   "metadata": {},
   "outputs": [
    {
     "data": {
      "text/plain": [
       "[1, 3]"
      ]
     },
     "execution_count": 84,
     "metadata": {},
     "output_type": "execute_result"
    }
   ],
   "source": [
    "li  = [0, 1, 2, 3]\n",
    "del li[::2]\n",
    "li"
   ]
  },
  {
   "cell_type": "code",
   "execution_count": 85,
   "id": "a1dbba22",
   "metadata": {},
   "outputs": [
    {
     "name": "stdout",
     "output_type": "stream",
     "text": [
      "str1str2\n",
      "[0, 1, 0, 1]\n"
     ]
    }
   ],
   "source": [
    "print(\"str1\"+\"str2\")\n",
    "print([0,1]*2)"
   ]
  },
  {
   "cell_type": "markdown",
   "id": "f203b2b1",
   "metadata": {},
   "source": [
    "**Encodings**\n",
    "- decode\n",
    "    - Decodes the string using the codec registered for encoding.\n",
    "- encode\n",
    "    - Returns an encoded version of the string.\n",
    "    - The syntax:\n",
    "        - string.encode(encoding,errors='strict')\n",
    "            - encoding :'UTF-8',ascii, base64\n",
    "        - Typical errors values:\n",
    "            - ‘strict’ : Raise ValueError (or a subclass); this is the default.\n",
    "            - ‘ignore’ : Ignore the character and continue with the next.\n",
    "            - ‘replace’: Replace with a suitable replacement character"
   ]
  },
  {
   "cell_type": "code",
   "execution_count": 86,
   "id": "796b6e88",
   "metadata": {},
   "outputs": [
    {
     "name": "stdout",
     "output_type": "stream",
     "text": [
      "The string is: pythön!\n",
      "The encoded version is: b'pyth\\xc3\\xb6n!'\n",
      "The encoded version (with ignore) is: b'pythn!'\n",
      "The encoded version (with replace) is: b'pyth?n!'\n"
     ]
    }
   ],
   "source": [
    "# unicode string\n",
    "string = 'pythön!'\n",
    "\n",
    "# print string\n",
    "print('The string is:', string)\n",
    "\n",
    "# strict error\n",
    "#print('The encoded version (with ignore) is:', string.encode(\"ascii\", \"strict\"))\n",
    "\n",
    "# default encoding to utf-8\n",
    "string_utf = string.encode()\n",
    "print('The encoded version is:', string_utf)\n",
    "\n",
    "# ignore error\n",
    "print('The encoded version (with ignore) is:', string.encode(\"ascii\", \"ignore\"))\n",
    "\n",
    "# replace error\n",
    "print('The encoded version (with replace) is:', string.encode(\"ascii\", \"replace\"))"
   ]
  },
  {
   "cell_type": "markdown",
   "id": "37aebd41",
   "metadata": {},
   "source": [
    "**Splitting and Joining**\n",
    "- split\n",
    "    - Returns a list of the words in the string, separated by the delimiter string.\n",
    "    - Syntax : str.split(separator, maxsplit)\n",
    "        - sep : Optional. Character dividing the string into split groups; default is space.\n",
    "        - maxsplit : Optional. Number of splits to do; default is -1 which splits all the items.\n",
    "    - Return Value : list\n",
    "- rsplit\n",
    "    - Returns a list of the words in the string, separated by the delimiter string (starting from right).\n",
    "    - Syntax : str.split(separator, maxsplit)\n",
    "        - sep : Optional. Character dividing the string into split groups; default is space.\n",
    "        - maxsplit : Optional. Number of splits to do; default is -1 which splits all the items.\n",
    "    - Return Value : list\n",
    "- partition\n",
    "    - Returns a tuple containing the first part of the string split by the specified separator, the separator itself and the other part of the string.\n",
    "    - Syntax : str. partition(sep)\n",
    "        - sep : Required. Separator for the returned tuple. If the separator is not found, partition returns a 3-tuple containing the string itself, followed by two empty strings.\n",
    "        - Return Value : tuple\n",
    "- rpartition\n",
    "    - Returns a tuple containing the first part of the string split by the specified separator, the separator itself and the other part of the string (starting from right).\n",
    "    - Syntax : str. rpartition(sep)\n",
    "        - sep : Required. Separator for the returned tuple. If the separator is not found, partition returns a 3-tuple containing two empty strings, followed by the string itself.\n",
    "        - Return Value : tuple\n",
    "- splitlines\n",
    "    - Returns a list of the lines in the string, breaking at line boundaries.\n",
    "- join\n",
    "    - Returns a string made from the elements of an iterable.\n",
    "    - Syntax : str. join(iterable)\n",
    "        - iterable : Required. The iterable used for creating the string.\n",
    "    - Return Value : str\n",
    "    \n",
    "**-----------------------**\n",
    "\n",
    "- Some of the example of iterables are:\n",
    "    - Native data types - List, Tuple, String, Dictionary and Set."
   ]
  },
  {
   "cell_type": "code",
   "execution_count": 87,
   "id": "53d0d73e",
   "metadata": {},
   "outputs": [
    {
     "name": "stdout",
     "output_type": "stream",
     "text": [
      "['Python', 'is', 'a', 'fun', 'programming', 'language']\n",
      "['Python is a fun programming language']\n"
     ]
    }
   ],
   "source": [
    "text = 'Python is a fun programming language'\n",
    "print(text.split())\n",
    "print(text.split(\",\"))"
   ]
  },
  {
   "cell_type": "code",
   "execution_count": 88,
   "id": "cdb01b65",
   "metadata": {},
   "outputs": [
    {
     "name": "stdout",
     "output_type": "stream",
     "text": [
      "['Milk', ' Chicken', ' Bread']\n",
      "['Milk, Chicken, Bread']\n"
     ]
    }
   ],
   "source": [
    "grocery = 'Milk, Chicken, Bread'\n",
    "print(grocery.split(','))\n",
    "print(grocery.split(':'))"
   ]
  },
  {
   "cell_type": "code",
   "execution_count": 89,
   "id": "4f80704b",
   "metadata": {},
   "outputs": [
    {
     "name": "stdout",
     "output_type": "stream",
     "text": [
      "['Milk', ' Chicken', ' Bread, Butter']\n",
      "['Milk', ' Chicken, Bread, Butter']\n",
      "['Milk', ' Chicken', ' Bread', ' Butter']\n",
      "['Milk, Chicken, Bread, Butter']\n"
     ]
    }
   ],
   "source": [
    "grocery = 'Milk, Chicken, Bread, Butter'\n",
    "print(grocery.split(',',2))\n",
    "print(grocery.split(',',1))\n",
    "print(grocery.split(',',5))\n",
    "print(grocery.split(',',0))"
   ]
  },
  {
   "cell_type": "code",
   "execution_count": 90,
   "id": "3ba61e62",
   "metadata": {},
   "outputs": [
    {
     "data": {
      "text/plain": [
       "['', '', '', '', 'a', '#', 'b', '', 'c', '']"
      ]
     },
     "execution_count": 90,
     "metadata": {},
     "output_type": "execute_result"
    }
   ],
   "source": [
    "'----a-#-b--c-'.split('-')"
   ]
  },
  {
   "cell_type": "code",
   "execution_count": 91,
   "id": "8900fb09",
   "metadata": {},
   "outputs": [
    {
     "name": "stdout",
     "output_type": "stream",
     "text": [
      "['geeks, for, ', 'eeks']\n",
      "['geeks@for', 'geeks']\n",
      "['geeks@for@geeks@for', 'geeks']\n",
      "['geeks@for@geeks', 'for', 'geeks']\n",
      "['@@', '', '', 'geeks', 'for', 'geeks']\n",
      "['', '', '', '', '', 'geeks', ' ', ' ', 'for', 'geeks']\n"
     ]
    }
   ],
   "source": [
    "print('geeks, for, geeks'.rsplit('g', 1))\n",
    "print('geeks@for@geeks'.rsplit('@', 1))\n",
    "print('geeks@for@geeks@for@geeks'.rsplit('@', 1))\n",
    "print('geeks@for@geeks@for@geeks'.rsplit('@', 2))\n",
    "print('@@@@@geeks@for@geeks'.rsplit('@', 5))\n",
    "print('@@@@@geeks@ @ @for@geeks'.rsplit('@'))"
   ]
  },
  {
   "cell_type": "code",
   "execution_count": 92,
   "id": "d41fd927",
   "metadata": {},
   "outputs": [
    {
     "name": "stdout",
     "output_type": "stream",
     "text": [
      "ABC\n",
      "A-B-C\n"
     ]
    }
   ],
   "source": [
    "print(\"\".join(['A','B','C']))\n",
    "print(\"-\".join(['A','B','C']))"
   ]
  },
  {
   "cell_type": "code",
   "execution_count": 93,
   "id": "22140453",
   "metadata": {},
   "outputs": [
    {
     "name": "stdout",
     "output_type": "stream",
     "text": [
      "s1.join(s2): 1abc2abc3\n"
     ]
    }
   ],
   "source": [
    "s1 = 'abc'\n",
    "s2 = '123'\n",
    "print(\"s1.join(s2):\",s1.join(s2))"
   ]
  },
  {
   "cell_type": "code",
   "execution_count": 94,
   "id": "172d7df6",
   "metadata": {},
   "outputs": [
    {
     "name": "stdout",
     "output_type": "stream",
     "text": [
      "mat->that\n"
     ]
    }
   ],
   "source": [
    "#The join() method with dictionaries\n",
    "test = {'mat': 1, 'that': 2}\n",
    "s = '->'\n",
    "print(s.join(test))\n",
    "\n",
    "#test1 = {1: '1', 2: '2'} #TypeError: sequence item 0: expected str instance, int found\n",
    "#s1 = '->'\n",
    "#print(s1.join(test1))"
   ]
  },
  {
   "cell_type": "code",
   "execution_count": 95,
   "id": "003db166",
   "metadata": {},
   "outputs": [
    {
     "name": "stdout",
     "output_type": "stream",
     "text": [
      "('AB', '-', 'CD-EF')\n",
      "('AB-CD-EF', '', '')\n",
      "('AB-C', 'D', '-EF')\n",
      "('image', '.', 'png')\n"
     ]
    }
   ],
   "source": [
    "print(\"AB-CD-EF\".partition('-'))\n",
    "print(\"AB-CD-EF\".partition(' '))\n",
    "print(\"AB-CD-EF\".partition('D'))\n",
    "print(\"image.png\".partition('.'))"
   ]
  },
  {
   "cell_type": "code",
   "execution_count": 96,
   "id": "7b703a81",
   "metadata": {},
   "outputs": [
    {
     "name": "stdout",
     "output_type": "stream",
     "text": [
      "('AB-CD', '-', 'EF')\n",
      "('', '', 'AB-CD-EF')\n",
      "('AB-C', 'D', '-EF')\n",
      "('image', '.', 'png')\n"
     ]
    }
   ],
   "source": [
    "print(\"AB-CD-EF\".rpartition('-'))\n",
    "print(\"AB-CD-EF\".rpartition(' '))\n",
    "print(\"AB-CD-EF\".rpartition('D'))\n",
    "print(\"image.png\".rpartition('.'))"
   ]
  },
  {
   "cell_type": "code",
   "execution_count": 97,
   "id": "df159821",
   "metadata": {},
   "outputs": [
    {
     "name": "stdout",
     "output_type": "stream",
     "text": [
      "['AB\\\\CD']\n",
      "['AB', 'CD']\n",
      "['AB\\n', 'CD\\n']\n"
     ]
    }
   ],
   "source": [
    "print(\"AB\\CD\\n\".splitlines())\n",
    "print(\"AB\\nCD\\n\".splitlines())\n",
    "print(\"AB\\nCD\\n\".splitlines(True))"
   ]
  },
  {
   "cell_type": "code",
   "execution_count": 98,
   "id": "5ee67b27",
   "metadata": {},
   "outputs": [
    {
     "name": "stdout",
     "output_type": "stream",
     "text": [
      "skeeg\n"
     ]
    }
   ],
   "source": [
    "#to reverse string\n",
    "str1 = \"\".join(reversed(\"geeks\"))\n",
    "print(str1)"
   ]
  },
  {
   "cell_type": "code",
   "execution_count": 99,
   "id": "31f994ba",
   "metadata": {},
   "outputs": [
    {
     "name": "stdout",
     "output_type": "stream",
     "text": [
      "Россия\n",
      "슥\n",
      "b9\n"
     ]
    }
   ],
   "source": [
    "print(u'\\u0420\\u043e\\u0441\\u0441\\u0438\\u044f')\n",
    "print(u'\\uc2a5')\n",
    "print(u'\\ue282b9')"
   ]
  },
  {
   "cell_type": "code",
   "execution_count": 100,
   "id": "dc6d56da",
   "metadata": {},
   "outputs": [
    {
     "name": "stdout",
     "output_type": "stream",
     "text": [
      "ec8aa5\n",
      "41\n",
      "c2a5\n",
      "e282b9\n"
     ]
    }
   ],
   "source": [
    "s = '슥'.encode('utf-8')\n",
    "print(s.hex())\n",
    "s1 = 'A'.encode('utf-8')\n",
    "print(s1.hex())\n",
    "s2 = '¥'.encode('utf-8')\n",
    "print(s2.hex())\n",
    "s3 = '₹'.encode('utf-8')\n",
    "print(s3.hex())"
   ]
  },
  {
   "cell_type": "code",
   "execution_count": 129,
   "id": "1ad0b187",
   "metadata": {},
   "outputs": [
    {
     "name": "stdout",
     "output_type": "stream",
     "text": [
      "Enter the string:geeks\n",
      "['s', 'k', 'e', 'e', 'g']\n",
      "<class 'str'>\n",
      "<class 'list'>\n",
      "skeeg\n",
      "skeeg\n"
     ]
    }
   ],
   "source": [
    "#To display words of a string in reverse order (without using split and slice)\n",
    "a = input(\"Enter the string:\")\n",
    "b = len(a)\n",
    "end = b\n",
    "list1 = []\n",
    "for j in range(b-1,-1,-1):\n",
    "    list1.append(a[j])\n",
    "print(list1)\n",
    "print(type(str(list1)))\n",
    "print(type(list1))\n",
    "print(''.join(str(li) for li in list1))\n",
    "print(''.join(map(str,list1)))"
   ]
  },
  {
   "cell_type": "code",
   "execution_count": 120,
   "id": "9852f61d",
   "metadata": {},
   "outputs": [
    {
     "name": "stdout",
     "output_type": "stream",
     "text": [
      "['s', 'k', 'e', 'e', 'g']\n",
      "<class 'str'>\n"
     ]
    }
   ],
   "source": [
    "print(str(['s','k','e','e','g']))\n",
    "print(type(str(['s','k','e','e','g'])))"
   ]
  },
  {
   "cell_type": "code",
   "execution_count": 128,
   "id": "9aa9ce51",
   "metadata": {},
   "outputs": [
    {
     "name": "stdout",
     "output_type": "stream",
     "text": [
      "<class 'str'>\n",
      "howareyou?\n",
      "\n",
      " how are you ?\n"
     ]
    }
   ],
   "source": [
    "list1 = ['how','are','you','?']\n",
    "mystring = ''\n",
    "print(type(mystring))\n",
    "for x in list1:\n",
    "    mystring += x \n",
    "print(mystring)\n",
    "print()\n",
    "mystring1 = ''\n",
    "for x in list1:\n",
    "    mystring1 += ' ' + x \n",
    "print(mystring1)"
   ]
  },
  {
   "cell_type": "code",
   "execution_count": 136,
   "id": "869dc2d6",
   "metadata": {},
   "outputs": [
    {
     "name": "stdout",
     "output_type": "stream",
     "text": [
      "Left Rotation :  lloHe\n",
      "Right Rotation :  loHel\n"
     ]
    }
   ],
   "source": [
    "#String slicing in Python to rotate a string\n",
    "def rotate(input,d): \n",
    "  \n",
    "    # slice string in two parts for left and right \n",
    "    Lfirst = input[0 : d] \n",
    "    Lsecond = input[d :] \n",
    "    Rfirst = input[0 : len(input)-d] \n",
    "    Rsecond = input[len(input)-d : ] \n",
    "  \n",
    "    # now concatenate two parts together \n",
    "    print (\"Left Rotation : \", (Lsecond + Lfirst) )\n",
    "    print (\"Right Rotation : \", (Rsecond + Rfirst)) \n",
    "# Driver program \n",
    "if __name__ == \"__main__\": \n",
    "    input = 'Hello'\n",
    "    d=2\n",
    "    rotate(input,d) "
   ]
  },
  {
   "cell_type": "code",
   "execution_count": 139,
   "id": "931483d0",
   "metadata": {},
   "outputs": [
    {
     "name": "stdout",
     "output_type": "stream",
     "text": [
      "\n",
      "Dear harry\n",
      "you are selected\n",
      "feb 21\n"
     ]
    }
   ],
   "source": [
    "#replace\n",
    "name = \"harry\"\n",
    "date = \"feb 21\"\n",
    "template = '''\n",
    "Dear <|Name|>\n",
    "you are selected\n",
    "<|Date|>'''\n",
    "print(template.replace('<|Name|>',name).replace('<|Date|>',date))"
   ]
  },
  {
   "cell_type": "code",
   "execution_count": 144,
   "id": "4efd360d",
   "metadata": {},
   "outputs": [
    {
     "name": "stdout",
     "output_type": "stream",
     "text": [
      "I am Harry, here to explain python\n"
     ]
    }
   ],
   "source": [
    "string1 = \"I  am Harry, here to  explain  python\"\n",
    "print(string1.replace('  ',' '))"
   ]
  },
  {
   "cell_type": "code",
   "execution_count": 146,
   "id": "a5681043",
   "metadata": {},
   "outputs": [
    {
     "name": "stdout",
     "output_type": "stream",
     "text": [
      "I am Harry, here to explain python\n"
     ]
    }
   ],
   "source": [
    "#To remove all unwanted spaces\n",
    "import re\n",
    "string1 = \"I  am               Harry,      here to  explain  python\"\n",
    "res = re.sub(' +', ' ', string1)\n",
    "print(res)"
   ]
  },
  {
   "cell_type": "code",
   "execution_count": null,
   "id": "34699411",
   "metadata": {},
   "outputs": [],
   "source": []
  }
 ],
 "metadata": {
  "kernelspec": {
   "display_name": "Python 3 (ipykernel)",
   "language": "python",
   "name": "python3"
  },
  "language_info": {
   "codemirror_mode": {
    "name": "ipython",
    "version": 3
   },
   "file_extension": ".py",
   "mimetype": "text/x-python",
   "name": "python",
   "nbconvert_exporter": "python",
   "pygments_lexer": "ipython3",
   "version": "3.9.7"
  }
 },
 "nbformat": 4,
 "nbformat_minor": 5
}
