{
 "cells": [
  {
   "cell_type": "markdown",
   "id": "c43f8250",
   "metadata": {},
   "source": [
    "# Concepts"
   ]
  },
  {
   "cell_type": "markdown",
   "id": "94142407",
   "metadata": {},
   "source": [
    "- Iterning\n",
    "- print, module, comments\n",
    "- variables, keyword and identifier\n",
    "- data type\n",
    "- operators, overloaded operators\n",
    "- type casting and type()\n",
    "- input() function and Output formatting"
   ]
  },
  {
   "cell_type": "markdown",
   "id": "abac07dc",
   "metadata": {},
   "source": [
    "# Note\n",
    "- Development : Visual studio code\n",
    "- To execute python file in terminal : python filname.py\n",
    "- key + tab key to auto complete in terminal\n",
    "- .py is the extension for python files\n",
    "- ctrl + / make the line commented\n",
    "- multi cursor fnctionality : ctrl+alt and end keyword\n",
    "- windows power shell\n",
    "- REPL : Read evaluate print loop\n",
    "- tab to auto complete the code"
   ]
  },
  {
   "cell_type": "code",
   "execution_count": 66,
   "id": "bc0a30cb",
   "metadata": {},
   "outputs": [
    {
     "data": {
      "text/plain": [
       "['__add__',\n",
       " '__class__',\n",
       " '__class_getitem__',\n",
       " '__contains__',\n",
       " '__delattr__',\n",
       " '__delitem__',\n",
       " '__dir__',\n",
       " '__doc__',\n",
       " '__eq__',\n",
       " '__format__',\n",
       " '__ge__',\n",
       " '__getattribute__',\n",
       " '__getitem__',\n",
       " '__gt__',\n",
       " '__hash__',\n",
       " '__iadd__',\n",
       " '__imul__',\n",
       " '__init__',\n",
       " '__init_subclass__',\n",
       " '__iter__',\n",
       " '__le__',\n",
       " '__len__',\n",
       " '__lt__',\n",
       " '__mul__',\n",
       " '__ne__',\n",
       " '__new__',\n",
       " '__reduce__',\n",
       " '__reduce_ex__',\n",
       " '__repr__',\n",
       " '__reversed__',\n",
       " '__rmul__',\n",
       " '__setattr__',\n",
       " '__setitem__',\n",
       " '__sizeof__',\n",
       " '__str__',\n",
       " '__subclasshook__',\n",
       " 'append',\n",
       " 'clear',\n",
       " 'copy',\n",
       " 'count',\n",
       " 'extend',\n",
       " 'index',\n",
       " 'insert',\n",
       " 'pop',\n",
       " 'remove',\n",
       " 'reverse',\n",
       " 'sort']"
      ]
     },
     "execution_count": 66,
     "metadata": {},
     "output_type": "execute_result"
    }
   ],
   "source": [
    "dir(list)"
   ]
  },
  {
   "cell_type": "code",
   "execution_count": 67,
   "id": "20111dbd",
   "metadata": {},
   "outputs": [
    {
     "data": {
      "text/plain": [
       "['__abs__',\n",
       " '__add__',\n",
       " '__and__',\n",
       " '__bool__',\n",
       " '__ceil__',\n",
       " '__class__',\n",
       " '__delattr__',\n",
       " '__dir__',\n",
       " '__divmod__',\n",
       " '__doc__',\n",
       " '__eq__',\n",
       " '__float__',\n",
       " '__floor__',\n",
       " '__floordiv__',\n",
       " '__format__',\n",
       " '__ge__',\n",
       " '__getattribute__',\n",
       " '__getnewargs__',\n",
       " '__gt__',\n",
       " '__hash__',\n",
       " '__index__',\n",
       " '__init__',\n",
       " '__init_subclass__',\n",
       " '__int__',\n",
       " '__invert__',\n",
       " '__le__',\n",
       " '__lshift__',\n",
       " '__lt__',\n",
       " '__mod__',\n",
       " '__mul__',\n",
       " '__ne__',\n",
       " '__neg__',\n",
       " '__new__',\n",
       " '__or__',\n",
       " '__pos__',\n",
       " '__pow__',\n",
       " '__radd__',\n",
       " '__rand__',\n",
       " '__rdivmod__',\n",
       " '__reduce__',\n",
       " '__reduce_ex__',\n",
       " '__repr__',\n",
       " '__rfloordiv__',\n",
       " '__rlshift__',\n",
       " '__rmod__',\n",
       " '__rmul__',\n",
       " '__ror__',\n",
       " '__round__',\n",
       " '__rpow__',\n",
       " '__rrshift__',\n",
       " '__rshift__',\n",
       " '__rsub__',\n",
       " '__rtruediv__',\n",
       " '__rxor__',\n",
       " '__setattr__',\n",
       " '__sizeof__',\n",
       " '__str__',\n",
       " '__sub__',\n",
       " '__subclasshook__',\n",
       " '__truediv__',\n",
       " '__trunc__',\n",
       " '__xor__',\n",
       " 'as_integer_ratio',\n",
       " 'bit_length',\n",
       " 'conjugate',\n",
       " 'denominator',\n",
       " 'from_bytes',\n",
       " 'imag',\n",
       " 'numerator',\n",
       " 'real',\n",
       " 'to_bytes']"
      ]
     },
     "execution_count": 67,
     "metadata": {},
     "output_type": "execute_result"
    }
   ],
   "source": [
    "dir(int)"
   ]
  },
  {
   "cell_type": "markdown",
   "id": "b59f1243",
   "metadata": {},
   "source": [
    "# Interning\n",
    "- Interning - allocating same memory to variables with same data. Default set - [-5,256] and simple strings\n",
    "- Interning provides best utilization of space\n",
    "- Forceful interning:\n",
    "    - import sys \n",
    "    - x = sys.intern(\"hello world\")\n",
    "- Any values outside [-5,256] and for complicated string, python also allocate separate memory to variables with same data"
   ]
  },
  {
   "cell_type": "code",
   "execution_count": 32,
   "id": "3dc22327",
   "metadata": {},
   "outputs": [
    {
     "name": "stdout",
     "output_type": "stream",
     "text": [
      "2506892595280\n",
      "2506892595280\n",
      "\n",
      "2506969637552\n",
      "2506969637552\n"
     ]
    }
   ],
   "source": [
    "x = 56\n",
    "y = 56\n",
    "x_str = \"hello\"\n",
    "y_str = \"hello\"\n",
    "print(id(x))\n",
    "print(id(y))\n",
    "print()\n",
    "print(id(x_str))\n",
    "print(id(y_str))"
   ]
  },
  {
   "cell_type": "code",
   "execution_count": 33,
   "id": "9c52b557",
   "metadata": {},
   "outputs": [
    {
     "name": "stdout",
     "output_type": "stream",
     "text": [
      "2506999590032\n",
      "2506999590000\n",
      "\n",
      "2506999666736\n",
      "2506999668208\n"
     ]
    }
   ],
   "source": [
    "x = 258\n",
    "y = 258\n",
    "x_str = \"hello world\"\n",
    "y_str = \"hello world\"\n",
    "print(id(x))\n",
    "print(id(y))\n",
    "print()\n",
    "print(id(x_str))\n",
    "print(id(y_str))"
   ]
  },
  {
   "cell_type": "code",
   "execution_count": 43,
   "id": "6a9f0ec1",
   "metadata": {},
   "outputs": [
    {
     "name": "stdout",
     "output_type": "stream",
     "text": [
      "2507038429488\n",
      "2507038429488\n",
      "2507038429488\n",
      "2507038429616\n",
      "\n",
      "True\n",
      "True\n",
      "False\n"
     ]
    }
   ],
   "source": [
    "#Forcefull interning\n",
    "import sys\n",
    "#sys.intern(string)\n",
    "x_str = sys.intern(\"hello world\")\n",
    "y_str = sys.intern(\"hello world\")\n",
    "z_str = y_str\n",
    "a_str = \"hello world\"\n",
    "print(id(x_str))\n",
    "print(id(y_str))\n",
    "print(id(z_str))\n",
    "print(id(a_str))\n",
    "print()\n",
    "print(x_str is y_str)\n",
    "print(x_str is z_str)\n",
    "print(x_str is a_str)"
   ]
  },
  {
   "cell_type": "code",
   "execution_count": 46,
   "id": "43c05112",
   "metadata": {},
   "outputs": [
    {
     "name": "stdout",
     "output_type": "stream",
     "text": [
      "2506892405104\n",
      "2506892405136\n"
     ]
    }
   ],
   "source": [
    "x = 3\n",
    "print(id(x))\n",
    "x = x+1\n",
    "print(id(x))"
   ]
  },
  {
   "cell_type": "code",
   "execution_count": 51,
   "id": "7a6ea33c",
   "metadata": {},
   "outputs": [
    {
     "name": "stdout",
     "output_type": "stream",
     "text": [
      "2506892405072\n",
      "2506892405072\n",
      "2506892405072\n",
      "2 2 2\n"
     ]
    }
   ],
   "source": [
    "a = 2\n",
    "b = c = a\n",
    "print(id(a))\n",
    "print(id(b))\n",
    "print(id(c))\n",
    "print(a,b,c)"
   ]
  },
  {
   "cell_type": "markdown",
   "id": "fe5162f1",
   "metadata": {},
   "source": [
    "# Print, Module, Comments"
   ]
  },
  {
   "cell_type": "markdown",
   "id": "12dbfae3",
   "metadata": {},
   "source": [
    "**print function**"
   ]
  },
  {
   "cell_type": "code",
   "execution_count": 1,
   "id": "4005e869",
   "metadata": {},
   "outputs": [
    {
     "name": "stdout",
     "output_type": "stream",
     "text": [
      "Hello World\n"
     ]
    }
   ],
   "source": [
    "print(\"Hello World\") # print() : is a function"
   ]
  },
  {
   "cell_type": "code",
   "execution_count": 260,
   "id": "a341c112",
   "metadata": {},
   "outputs": [
    {
     "name": "stdout",
     "output_type": "stream",
     "text": [
      "GeeksforGeeks \n",
      " is best for DSA Content.\n"
     ]
    }
   ],
   "source": [
    "#\\n\n",
    "print(\"GeeksforGeeks \\n is best for DSA Content.\")"
   ]
  },
  {
   "cell_type": "code",
   "execution_count": 261,
   "id": "d404aa77",
   "metadata": {},
   "outputs": [
    {
     "name": "stdout",
     "output_type": "stream",
     "text": [
      "GeeksForGeeks is the best platform for DSA content**Welcome to GFG\n"
     ]
    }
   ],
   "source": [
    "#end\n",
    "print (\"GeeksForGeeks is the best platform for DSA content\", end= \"**\")\n",
    "print(\"Welcome to GFG\")"
   ]
  },
  {
   "cell_type": "code",
   "execution_count": 262,
   "id": "267df656",
   "metadata": {},
   "outputs": [
    {
     "name": "stdout",
     "output_type": "stream",
     "text": [
      "GeeksForGeeks is the best platform for DSA content Welcome to GFG\n"
     ]
    }
   ],
   "source": [
    "print (\"GeeksForGeeks is the best platform for DSA content\", end= \" \")\n",
    "print(\"Welcome to GFG\")"
   ]
  },
  {
   "cell_type": "code",
   "execution_count": 264,
   "id": "770f9da2",
   "metadata": {},
   "outputs": [
    {
     "name": "stdout",
     "output_type": "stream",
     "text": [
      "GeeksForGeeks is the best platform for DSA content and Welcome to GFG\n"
     ]
    }
   ],
   "source": [
    "print (\"GeeksForGeeks is the best platform for DSA content\", end= \" and \")\n",
    "print(\"Welcome to GFG\")"
   ]
  },
  {
   "cell_type": "code",
   "execution_count": 265,
   "id": "f0ab83cb",
   "metadata": {},
   "outputs": [
    {
     "name": "stdout",
     "output_type": "stream",
     "text": [
      "Geeks for Geeks\n"
     ]
    }
   ],
   "source": [
    "#sep\n",
    "letter = \"for\"\n",
    "print(\"Geeks\", letter , \"Geeks\")"
   ]
  },
  {
   "cell_type": "code",
   "execution_count": 268,
   "id": "0cd3b020",
   "metadata": {},
   "outputs": [
    {
     "name": "stdout",
     "output_type": "stream",
     "text": [
      "Geeks*for*Geeks\n"
     ]
    }
   ],
   "source": [
    "letter = \"for\"\n",
    "print(\"Geeks\",letter,\"Geeks\",sep=\"*\")"
   ]
  },
  {
   "cell_type": "markdown",
   "id": "5dc2fc06",
   "metadata": {},
   "source": [
    "**Module Ex : time module**\n",
    "- Modules are files with the “. py” extension containing Python code that can be imported inside another Python Program."
   ]
  },
  {
   "cell_type": "code",
   "execution_count": 2,
   "id": "c6e97e7b",
   "metadata": {},
   "outputs": [
    {
     "name": "stdout",
     "output_type": "stream",
     "text": [
      "10 seconds have been passed since this program ran\n"
     ]
    }
   ],
   "source": [
    "import time\n",
    "time.sleep(10)\n",
    "print(\"10 seconds have been passed since this program ran\")"
   ]
  },
  {
   "cell_type": "markdown",
   "id": "894f1461",
   "metadata": {},
   "source": [
    "- epoch time : 1 Jan 1970.\n",
    "- 2 January 1970 can be expressed as 86400 seconds since epoch"
   ]
  },
  {
   "cell_type": "code",
   "execution_count": 3,
   "id": "33e4f2d1",
   "metadata": {},
   "outputs": [
    {
     "name": "stdout",
     "output_type": "stream",
     "text": [
      "time.struct_time(tm_year=1970, tm_mon=1, tm_mday=1, tm_hour=0, tm_min=0, tm_sec=0, tm_wday=3, tm_yday=1, tm_isdst=0)\n"
     ]
    }
   ],
   "source": [
    "print(time.gmtime(0)) # gives epoch time : 1 Jan 1970."
   ]
  },
  {
   "cell_type": "markdown",
   "id": "cebe79df",
   "metadata": {},
   "source": [
    "- time.time() methods return the current time in seconds since epoch"
   ]
  },
  {
   "cell_type": "code",
   "execution_count": 4,
   "id": "9d0fa009",
   "metadata": {},
   "outputs": [
    {
     "name": "stdout",
     "output_type": "stream",
     "text": [
      "current time in secs since epoch =  1644884913.8633769\n"
     ]
    }
   ],
   "source": [
    "print(\"current time in secs since epoch = \",time.time())"
   ]
  },
  {
   "cell_type": "markdown",
   "id": "ea2c3369",
   "metadata": {},
   "source": [
    "- time.ctime() function returns a 24 character time string but takes seconds as argument and computes time till mentioned seconds. "
   ]
  },
  {
   "cell_type": "code",
   "execution_count": 5,
   "id": "84704cb6",
   "metadata": {},
   "outputs": [
    {
     "name": "stdout",
     "output_type": "stream",
     "text": [
      "current time =  Mon Feb 14 16:26:57 2022\n"
     ]
    }
   ],
   "source": [
    "print(\"current time = \",time.ctime(1644874017.0792887))"
   ]
  },
  {
   "cell_type": "code",
   "execution_count": 6,
   "id": "a24f5180",
   "metadata": {},
   "outputs": [
    {
     "name": "stdout",
     "output_type": "stream",
     "text": [
      "current time =  time.struct_time(tm_year=2022, tm_mon=2, tm_mday=14, tm_hour=16, tm_min=26, tm_sec=57, tm_wday=0, tm_yday=45, tm_isdst=0)\n"
     ]
    }
   ],
   "source": [
    "print(\"current time = \",time.localtime(1644874017.0792887))"
   ]
  },
  {
   "cell_type": "code",
   "execution_count": 7,
   "id": "38d862e9",
   "metadata": {},
   "outputs": [
    {
     "name": "stdout",
     "output_type": "stream",
     "text": [
      "Mon, 14, Feb, 2022, 21:26:57\n"
     ]
    }
   ],
   "source": [
    "s = time.strftime(\"%a, %d, %b, %Y, %H:%M:%S\",time.gmtime(1644874017.0792887))\n",
    "print(s)"
   ]
  },
  {
   "cell_type": "code",
   "execution_count": 8,
   "id": "909db62b",
   "metadata": {},
   "outputs": [
    {
     "name": "stdout",
     "output_type": "stream",
     "text": [
      "current time =  Mon Feb 14 16:26:57 2022\n"
     ]
    }
   ],
   "source": [
    "obj = time.localtime(1644874017.0792887)\n",
    "print(\"current time = \",time.asctime(obj))"
   ]
  },
  {
   "cell_type": "markdown",
   "id": "fb17ef5b",
   "metadata": {},
   "source": [
    "- pip is package manager for python"
   ]
  },
  {
   "cell_type": "code",
   "execution_count": 9,
   "id": "6daecbdb",
   "metadata": {
    "collapsed": true
   },
   "outputs": [
    {
     "name": "stdout",
     "output_type": "stream",
     "text": [
      "Requirement already satisfied: flask in c:\\users\\priya\\python\\lib\\site-packages (1.1.2)\n",
      "Requirement already satisfied: Werkzeug>=0.15 in c:\\users\\priya\\python\\lib\\site-packages (from flask) (2.0.2)\n",
      "Requirement already satisfied: itsdangerous>=0.24 in c:\\users\\priya\\python\\lib\\site-packages (from flask) (2.0.1)\n",
      "Requirement already satisfied: click>=5.1 in c:\\users\\priya\\python\\lib\\site-packages (from flask) (8.0.3)\n",
      "Requirement already satisfied: Jinja2>=2.10.1 in c:\\users\\priya\\python\\lib\\site-packages (from flask) (2.11.3)\n",
      "Requirement already satisfied: colorama in c:\\users\\priya\\python\\lib\\site-packages (from click>=5.1->flask) (0.4.4)\n",
      "Requirement already satisfied: MarkupSafe>=0.23 in c:\\users\\priya\\python\\lib\\site-packages (from Jinja2>=2.10.1->flask) (1.1.1)\n",
      "Note: you may need to restart the kernel to use updated packages.\n"
     ]
    }
   ],
   "source": [
    "pip install flask"
   ]
  },
  {
   "cell_type": "code",
   "execution_count": 10,
   "id": "3d5e317a",
   "metadata": {
    "collapsed": true
   },
   "outputs": [
    {
     "name": "stdout",
     "output_type": "stream",
     "text": [
      "Requirement already satisfied: pyttsx3 in c:\\users\\priya\\python\\lib\\site-packages (2.90)\n",
      "Requirement already satisfied: pypiwin32 in c:\\users\\priya\\python\\lib\\site-packages (from pyttsx3) (223)\n",
      "Requirement already satisfied: pywin32 in c:\\users\\priya\\python\\lib\\site-packages (from pyttsx3) (228)\n",
      "Requirement already satisfied: comtypes in c:\\users\\priya\\python\\lib\\site-packages (from pyttsx3) (1.1.10)\n",
      "Note: you may need to restart the kernel to use updated packages.\n"
     ]
    }
   ],
   "source": [
    "pip install pyttsx3"
   ]
  },
  {
   "cell_type": "code",
   "execution_count": 11,
   "id": "49c03947",
   "metadata": {},
   "outputs": [],
   "source": [
    "import pyttsx3 # text to speech module\n",
    "engine = pyttsx3.init()\n",
    "engine.say(\"Hey Priya I am a python module. Welcome to the world of python\")\n",
    "engine.runAndWait()"
   ]
  },
  {
   "cell_type": "code",
   "execution_count": 12,
   "id": "9dbc2e58",
   "metadata": {},
   "outputs": [
    {
     "data": {
      "text/plain": [
       "['.ipynb_checkpoints',\n",
       " 'chap1  Intro - Basics.ipynb',\n",
       " 'dictionary.ipynb',\n",
       " 'map().ipynb']"
      ]
     },
     "execution_count": 12,
     "metadata": {},
     "output_type": "execute_result"
    }
   ],
   "source": [
    "import os\n",
    "os.listdir()"
   ]
  },
  {
   "cell_type": "markdown",
   "id": "029af175",
   "metadata": {},
   "source": [
    "- Note : time module is built-in module and flask is external module"
   ]
  },
  {
   "cell_type": "markdown",
   "id": "fd12b234",
   "metadata": {},
   "source": [
    "**Comments**"
   ]
  },
  {
   "cell_type": "code",
   "execution_count": 13,
   "id": "3e9768ff",
   "metadata": {},
   "outputs": [
    {
     "name": "stdout",
     "output_type": "stream",
     "text": [
      "2 seconds have been passed since this program ran\n"
     ]
    }
   ],
   "source": [
    "import time\n",
    "time.sleep(2)\n",
    "#Single line comment \n",
    "'''Multiline Comment\n",
    "Author:\n",
    "Date:\n",
    "Time:\n",
    "'''\n",
    "print(\"2 seconds have been passed since this program ran\")"
   ]
  },
  {
   "cell_type": "markdown",
   "id": "0d20d6f0",
   "metadata": {},
   "source": [
    "- Multi cursor functionality"
   ]
  },
  {
   "cell_type": "code",
   "execution_count": 14,
   "id": "d0d1aade",
   "metadata": {},
   "outputs": [
    {
     "name": "stdout",
     "output_type": "stream",
     "text": [
      "bangalore\n",
      "mangalore\n",
      "bagalkot\n",
      "belgavi\n",
      "bijapur\n"
     ]
    }
   ],
   "source": [
    "print(\"bangalore\")\n",
    "print(\"mangalore\")\n",
    "print(\"bagalkot\")\n",
    "print(\"belgavi\")\n",
    "print(\"bijapur\")"
   ]
  },
  {
   "cell_type": "code",
   "execution_count": 15,
   "id": "84f2904a",
   "metadata": {},
   "outputs": [
    {
     "name": "stdout",
     "output_type": "stream",
     "text": [
      "bangalore\n",
      "mangalore\n",
      "bagalkot\n",
      "belgavi\n",
      "bijapur\n"
     ]
    }
   ],
   "source": [
    "print('''bangalore\n",
    "mangalore\n",
    "bagalkot\n",
    "belgavi\n",
    "bijapur''')"
   ]
  },
  {
   "cell_type": "markdown",
   "id": "65d3eb73",
   "metadata": {},
   "source": [
    "# Variables and Datatypes"
   ]
  },
  {
   "cell_type": "markdown",
   "id": "e436403c",
   "metadata": {},
   "source": [
    "- Variable is a name given to memory location ie variables are container in memory that holds some value\n",
    "- Data types : Numbers(Integers,Float,complex,Boolean),sequence(strings,List,Tuple),Dictionary,Set,None\n",
    "- Python automatically identifies the type of data for us\n",
    "- Keyword : predefined and reserved words in python\n",
    "- Keyword : and,or,not,if,elif,else,for,while,break,as,def,lambda,pass,return,True,False,try,with,assert,class,continue,del,except,finally,from,global,import,is,in,None,nonlocal,yield,raise\n",
    "- An identifier is a name given to entities like class, functions, variables, etc.\n",
    "- Keywords cannot be used as identifiers.\n",
    "- Variable is only a kind of identifier, other kinds of identifiers are function names, class names, structure names, etc\n",
    "- The identifier is only used to identify an entity uniquely in a program at the time of execution whereas, a variable is a name given to a memory location, that is used to hold a value. "
   ]
  },
  {
   "cell_type": "code",
   "execution_count": 16,
   "id": "a8c7b445",
   "metadata": {},
   "outputs": [
    {
     "data": {
      "text/plain": [
       "int"
      ]
     },
     "execution_count": 16,
     "metadata": {},
     "output_type": "execute_result"
    }
   ],
   "source": [
    "a = 71 #identifies a as class<int>\n",
    "type(a) "
   ]
  },
  {
   "cell_type": "code",
   "execution_count": 17,
   "id": "85a305d1",
   "metadata": {},
   "outputs": [
    {
     "data": {
      "text/plain": [
       "NoneType"
      ]
     },
     "execution_count": 17,
     "metadata": {},
     "output_type": "execute_result"
    }
   ],
   "source": [
    "d = None\n",
    "type(d)"
   ]
  },
  {
   "cell_type": "code",
   "execution_count": 18,
   "id": "6062123f",
   "metadata": {
    "scrolled": true
   },
   "outputs": [
    {
     "data": {
      "text/plain": [
       "['False',\n",
       " 'None',\n",
       " 'True',\n",
       " '__peg_parser__',\n",
       " 'and',\n",
       " 'as',\n",
       " 'assert',\n",
       " 'async',\n",
       " 'await',\n",
       " 'break',\n",
       " 'class',\n",
       " 'continue',\n",
       " 'def',\n",
       " 'del',\n",
       " 'elif',\n",
       " 'else',\n",
       " 'except',\n",
       " 'finally',\n",
       " 'for',\n",
       " 'from',\n",
       " 'global',\n",
       " 'if',\n",
       " 'import',\n",
       " 'in',\n",
       " 'is',\n",
       " 'lambda',\n",
       " 'nonlocal',\n",
       " 'not',\n",
       " 'or',\n",
       " 'pass',\n",
       " 'raise',\n",
       " 'return',\n",
       " 'try',\n",
       " 'while',\n",
       " 'with',\n",
       " 'yield']"
      ]
     },
     "execution_count": 18,
     "metadata": {},
     "output_type": "execute_result"
    }
   ],
   "source": [
    "import keyword\n",
    "keyword.kwlist"
   ]
  },
  {
   "cell_type": "code",
   "execution_count": 19,
   "id": "18a038ef",
   "metadata": {},
   "outputs": [
    {
     "data": {
      "text/plain": [
       "False"
      ]
     },
     "execution_count": 19,
     "metadata": {},
     "output_type": "execute_result"
    }
   ],
   "source": [
    "keyword.iskeyword(\"techbuzz\")"
   ]
  },
  {
   "cell_type": "code",
   "execution_count": 20,
   "id": "73e7d445",
   "metadata": {},
   "outputs": [
    {
     "data": {
      "text/plain": [
       "True"
      ]
     },
     "execution_count": 20,
     "metadata": {},
     "output_type": "execute_result"
    }
   ],
   "source": [
    "keyword.iskeyword(\"for\")"
   ]
  },
  {
   "cell_type": "markdown",
   "id": "e961688e",
   "metadata": {},
   "source": [
    "# Operators"
   ]
  },
  {
   "cell_type": "markdown",
   "id": "0fd22118",
   "metadata": {},
   "source": [
    "- Arithmetic Operators : +(addition), - (Subtraction), * (Mul), / (Division), % (Modulus), ** (Exponent), //(floor division)\n",
    "- Equality and Comparison (Relational) Operators : ==, !=, >, <, >=, <=\n",
    "- Assignment Operators : =, +=, -=, *=, /=, //=, **=, %=, ^=, >>=,<<=\n",
    "- Logical Operators : AND, OR, NOT\n",
    "- Bitwise Operators : &, |, ^(XOR), ~ (1's complement), >>, << (right and left shift)\n",
    "- Membership Operators : in , not in\n",
    "- Identity Operators : is ,not is\n",
    "- Precedence\n",
    "    - ( ), [ ], { }\n",
    "    - x[ ], x(), x\n",
    "    - await\n",
    "    - **\n",
    "    - ~ + -\n",
    "    - (* / % //)\n",
    "    - (+ -)\n",
    "    - (>> <<)\n",
    "    - &\n",
    "    - ^ |\n",
    "    - is, is not, in, not in\n",
    "    - <= < > >=\n",
    "    - <> == !=\n",
    "    - not x\n",
    "    - and\n",
    "    - or\n",
    "    - if else\n",
    "    - lambda\n",
    "    - = %= /= //= -= += *= **= \n",
    "- Operators with same precedence are evaluated in left to right manner"
   ]
  },
  {
   "cell_type": "code",
   "execution_count": 37,
   "id": "aef7be82",
   "metadata": {},
   "outputs": [
    {
     "name": "stdout",
     "output_type": "stream",
     "text": [
      "True\n",
      "False\n",
      "\n",
      "True\n",
      "False\n"
     ]
    }
   ],
   "source": [
    "#Assignment and identity operators\n",
    "x = 258\n",
    "y = 258\n",
    "x_str = \"hello world\"\n",
    "y_str = \"hello world\"\n",
    "print(x == y)\n",
    "print(x is y)\n",
    "print()\n",
    "print(x_str == y_str)\n",
    "print(x_str is y_str)"
   ]
  },
  {
   "cell_type": "code",
   "execution_count": 39,
   "id": "e96f8c88",
   "metadata": {},
   "outputs": [
    {
     "name": "stdout",
     "output_type": "stream",
     "text": [
      "True\n",
      "True\n",
      "\n",
      "True\n",
      "True\n"
     ]
    }
   ],
   "source": [
    "#Assignment and identity operators\n",
    "x = 58\n",
    "y = 58\n",
    "x_str = \"hello\"\n",
    "y_str = \"hello\"\n",
    "print(x == y)\n",
    "print(x is y)\n",
    "print()\n",
    "print(x_str == y_str)\n",
    "print(x_str is y_str)"
   ]
  },
  {
   "cell_type": "code",
   "execution_count": 2,
   "id": "fe48e9a7",
   "metadata": {},
   "outputs": [
    {
     "name": "stdout",
     "output_type": "stream",
     "text": [
      "False\n",
      "False\n"
     ]
    }
   ],
   "source": [
    "x = 4\n",
    "y = 3\n",
    "print(x==y)\n",
    "print(x is y)"
   ]
  },
  {
   "cell_type": "code",
   "execution_count": 47,
   "id": "4c20c8cc",
   "metadata": {},
   "outputs": [
    {
     "name": "stdout",
     "output_type": "stream",
     "text": [
      "2 5\n",
      "5 2\n"
     ]
    }
   ],
   "source": [
    "#Mutiple assignment operator\n",
    "#Swap two numbers\n",
    "a,b = 2,5\n",
    "print(a,b)\n",
    "a,b = b,a\n",
    "print(a,b)"
   ]
  },
  {
   "cell_type": "code",
   "execution_count": 54,
   "id": "fa835fe6",
   "metadata": {},
   "outputs": [
    {
     "name": "stdout",
     "output_type": "stream",
     "text": [
      "False\n",
      "True\n",
      "True\n"
     ]
    }
   ],
   "source": [
    "#Logical operators\n",
    "x = 5\n",
    "y = 10\n",
    "print(5**2>25 and y<50)\n",
    "print(5**2>25 or y<50)\n",
    "print(not(5**2>25 and y<50))"
   ]
  },
  {
   "cell_type": "markdown",
   "id": "bbc60057",
   "metadata": {},
   "source": [
    "**Operator functions**"
   ]
  },
  {
   "cell_type": "code",
   "execution_count": 213,
   "id": "4c11e371",
   "metadata": {},
   "outputs": [],
   "source": [
    "import operator"
   ]
  },
  {
   "cell_type": "code",
   "execution_count": 215,
   "id": "f14a0659",
   "metadata": {},
   "outputs": [
    {
     "name": "stdout",
     "output_type": "stream",
     "text": [
      "14\n",
      "2\n",
      "48\n",
      "1.3333333333333333\n",
      "1\n",
      "262144\n",
      "2\n"
     ]
    }
   ],
   "source": [
    "a,b=8,6\n",
    "print(operator.add(a,b))\n",
    "print(operator.sub(a,b))\n",
    "print(operator.mul(a,b))\n",
    "print(operator.truediv(a,b))\n",
    "print(operator.floordiv(a,b))\n",
    "print(operator.pow(a,b))\n",
    "print(operator.mod(a,b))"
   ]
  },
  {
   "cell_type": "code",
   "execution_count": 216,
   "id": "586d45f1",
   "metadata": {},
   "outputs": [
    {
     "name": "stdout",
     "output_type": "stream",
     "text": [
      "False\n",
      "True\n",
      "True\n",
      "False\n",
      "True\n",
      "False\n"
     ]
    }
   ],
   "source": [
    "a,b=3,3\n",
    "print(operator.lt(a,b))\n",
    "print(operator.le(a,b))\n",
    "print(operator.eq(a,b))\n",
    "print(operator.gt(a,b))\n",
    "print(operator.ge(a,b))\n",
    "print(operator.ne(a,b))"
   ]
  },
  {
   "cell_type": "code",
   "execution_count": 223,
   "id": "a00e6e32",
   "metadata": {},
   "outputs": [
    {
     "name": "stdout",
     "output_type": "stream",
     "text": [
      "0\n",
      "1\n",
      "1\n",
      "-2\n",
      "-1\n",
      "-1\n",
      "-1\n"
     ]
    }
   ],
   "source": [
    "#bitwise\n",
    "#invert : For signed integer inputs, the two’s complement is returned. In a two’s-complement system negative numbers are represented by the two’s complement of the absolute value.\n",
    "import numpy as np\n",
    "a = 1\n",
    "b = 0\n",
    "print(operator.and_(a,b))\n",
    "print(operator.or_(a,b))\n",
    "print(operator.xor(a,b))\n",
    "print(operator.invert(a))\n",
    "print(operator.invert(b))\n",
    "print(np.bitwise_not(b))\n",
    "print(~(b))"
   ]
  },
  {
   "cell_type": "code",
   "execution_count": 3,
   "id": "c5e7d7f3",
   "metadata": {},
   "outputs": [
    {
     "name": "stdout",
     "output_type": "stream",
     "text": [
      "-33\n",
      "0\n",
      "9\n",
      "-79\n"
     ]
    }
   ],
   "source": [
    "# invert ex\n",
    "a = 32\n",
    "b = 78\n",
    "print(~a)\n",
    "print(~(-1))\n",
    "print(~(-10))\n",
    "print(~b)\n",
    "# Increase it by one to 33.\n",
    "# Prefix it with the negative symbol -33.\n",
    "#To represent x = -1 using 8 bits you first calculate (1-1) = 0 and then flip all bits to calculate \"11111111\".\n",
    "#To represent x = -10 using 8 bits you first calculate (10-1) = 9 which is \"00001001\" in binary format. Then, you complement all bits to determine the negative (complementary) binary \"11110110\""
   ]
  },
  {
   "cell_type": "markdown",
   "id": "94d435c8",
   "metadata": {},
   "source": [
    "**Overloaded operators**"
   ]
  },
  {
   "cell_type": "markdown",
   "id": "22ac4ed9",
   "metadata": {},
   "source": [
    "- The same built-in operator or function shows different behavior for objects of different classes, this is called Operator Overloading.\n",
    "- Example:\n",
    "    - operator + is used to add two integers as well as join two strings and merge two lists. \n",
    "    - It is achievable because ‘+’ operator is overloaded by int class and str class"
   ]
  },
  {
   "cell_type": "code",
   "execution_count": 25,
   "id": "638d28aa",
   "metadata": {},
   "outputs": [
    {
     "name": "stdout",
     "output_type": "stream",
     "text": [
      "3\n",
      "GeeksFor\n",
      "[10, 20, 20, 40]\n",
      "12\n",
      "GeeksGeeksGeeksGeeks\n"
     ]
    }
   ],
   "source": [
    "print(1 + 2)\n",
    "print(\"Geeks\"+\"For\")\n",
    "print([10,20]+[20,40])\n",
    "print(3 * 4)\n",
    "print(\"Geeks\"*4)"
   ]
  },
  {
   "cell_type": "code",
   "execution_count": 21,
   "id": "b5f6b1ef",
   "metadata": {},
   "outputs": [
    {
     "name": "stdout",
     "output_type": "stream",
     "text": [
      "-5\n"
     ]
    }
   ],
   "source": [
    "print(~4)"
   ]
  },
  {
   "cell_type": "code",
   "execution_count": 22,
   "id": "f48dc71a",
   "metadata": {},
   "outputs": [
    {
     "name": "stdout",
     "output_type": "stream",
     "text": [
      "[10, 20, 30, 40]\n",
      "[10, 20, 30, 40]\n"
     ]
    }
   ],
   "source": [
    "a = [10, 20]\n",
    "b = a\n",
    "b += [30, 40]\n",
    "print(a)\n",
    "print(b)"
   ]
  },
  {
   "cell_type": "code",
   "execution_count": 68,
   "id": "8ef8430d",
   "metadata": {},
   "outputs": [
    {
     "name": "stdout",
     "output_type": "stream",
     "text": [
      "11\n",
      "11\n"
     ]
    }
   ],
   "source": [
    "a = 5\n",
    "b = 6\n",
    "print(a+b)\n",
    "print(int.__add__(a,b)) #int is a class #this is called beyond scenes"
   ]
  },
  {
   "cell_type": "code",
   "execution_count": 70,
   "id": "d0a454cc",
   "metadata": {},
   "outputs": [
    {
     "name": "stdout",
     "output_type": "stream",
     "text": [
      "56\n",
      "56\n"
     ]
    }
   ],
   "source": [
    "x1 = '5'\n",
    "y1 = '6'\n",
    "print(x1+y1)\n",
    "print(str.__add__(x1,y1))"
   ]
  },
  {
   "cell_type": "code",
   "execution_count": null,
   "id": "a9cd01f7",
   "metadata": {},
   "outputs": [],
   "source": [
    "# Magic methods\n",
    "# __add__(self,other)\n",
    "# __sub__(self,other)\n",
    "# __mul__(self,other)"
   ]
  },
  {
   "cell_type": "code",
   "execution_count": 6,
   "id": "8c59974e",
   "metadata": {},
   "outputs": [
    {
     "name": "stdout",
     "output_type": "stream",
     "text": [
      "self m1: 50\n",
      "self m2: 51\n",
      "self m3: 52\n",
      "other m1: 60\n",
      "other m2: 61\n",
      "other m3: 62\n",
      "sum of student s1: 153\n",
      "sum of student s2: 183\n",
      "110\n",
      "112\n",
      "114\n",
      "s2 wins\n"
     ]
    }
   ],
   "source": [
    "class student:\n",
    "    def __init__(self,m1,m2,m3):\n",
    "        self.m1 = m1\n",
    "        self.m2 = m2\n",
    "        self.m3 = m3\n",
    "        \n",
    "    def __add__(self,other): #overload operator + in class student\n",
    "        m1 = self.m1+other.m1\n",
    "        print(\"self m1:\",self.m1)\n",
    "        print(\"self m2:\",self.m2)\n",
    "        print(\"self m3:\",self.m3)\n",
    "        print(\"other m1:\",other.m1)\n",
    "        print(\"other m2:\",other.m2)\n",
    "        print(\"other m3:\",other.m3)\n",
    "        m2 = self.m2+other.m2\n",
    "        m3 = self.m3+other.m3\n",
    "        s4 = student(m1,m2,m3)\n",
    "        print(\"sum of student s1:\",self.m1+self.m2+self.m3)\n",
    "        print(\"sum of student s2:\",other.m1+other.m2+other.m3)\n",
    "\n",
    "        return s4\n",
    "    \n",
    "    def __gt__(self,other):\n",
    "        r1 = self.m1+self.m1\n",
    "        r2 = other.m2+other.m2\n",
    "        if r1>r2:\n",
    "            return True\n",
    "        else:\n",
    "            return False\n",
    "\n",
    "s1 = student(50,51,52)\n",
    "s2 = student(60,61,62)\n",
    "\n",
    "#s3 = s1+s2  #ypeError: unsupported operand type(s) for +: 'student' and 'student' #before writing __add__\n",
    "s3 = s1 + s2#student.__add__(s1,s2) #s1 goes to self and s2 goes to other\n",
    "\n",
    "print(s3.m1)\n",
    "print(s3.m2)\n",
    "print(s3.m3)\n",
    "\n",
    "if s1 > s2:\n",
    "    print(\"s1 wins\")\n",
    "else:\n",
    "    print(\"s2 wins\")"
   ]
  },
  {
   "cell_type": "code",
   "execution_count": 133,
   "id": "579fee4c",
   "metadata": {},
   "outputs": [
    {
     "name": "stdout",
     "output_type": "stream",
     "text": [
      "180\n",
      "183\n",
      "186\n"
     ]
    }
   ],
   "source": [
    "class student:\n",
    "    def __init__(self,m1,m2,m3):\n",
    "        self.m1 = m1\n",
    "        self.m2 = m2\n",
    "        self.m3 = m3\n",
    "        \n",
    "    def __add__(self,other): #overload operator + in class student\n",
    "        m1 = self.m1+other.m1\n",
    "        m2 = self.m2+other.m2\n",
    "        m3 = self.m3+other.m3\n",
    "        s4 = student(m1,m2,m3)\n",
    "\n",
    "        return s4\n",
    "\n",
    "s1 = student(50,51,52)\n",
    "s2 = student(60,61,62)\n",
    "s3 = student(70,71,72)\n",
    "\n",
    "s4 = s1 + s2 + s3\n",
    "\n",
    "print(s4.m1)\n",
    "print(s4.m2)\n",
    "print(s4.m3)"
   ]
  },
  {
   "cell_type": "code",
   "execution_count": 106,
   "id": "df14f868",
   "metadata": {},
   "outputs": [
    {
     "name": "stdout",
     "output_type": "stream",
     "text": [
      "5\n",
      "5\n"
     ]
    }
   ],
   "source": [
    "a = 5\n",
    "print(a)\n",
    "print(a.__str__())"
   ]
  },
  {
   "cell_type": "code",
   "execution_count": 108,
   "id": "a7cc993b",
   "metadata": {},
   "outputs": [
    {
     "name": "stdout",
     "output_type": "stream",
     "text": [
      "<__main__.student object at 0x00000247B98F79D0>\n",
      "<__main__.student object at 0x00000247B98F79D0>\n",
      "<__main__.student object at 0x00000247B98F79D0>\n",
      "\n",
      "<__main__.student object at 0x00000247B98F7D30>\n",
      "<__main__.student object at 0x00000247B98F7D30>\n",
      "<__main__.student object at 0x00000247B98F7D30>\n"
     ]
    }
   ],
   "source": [
    "class student:\n",
    "    def __init__(self,m1,m2):\n",
    "        self.m1 = m1\n",
    "        self.m2 = m2\n",
    "s1 = student(58,69)\n",
    "s2 = student(60,65)\n",
    "print(s1) \n",
    "print(student.__str__(s1))\n",
    "print(s1.__str__())\n",
    "\n",
    "print()\n",
    "print(s2) \n",
    "print(student.__str__(s2))\n",
    "print(s2.__str__())\n"
   ]
  },
  {
   "cell_type": "code",
   "execution_count": 113,
   "id": "cd25a6b9",
   "metadata": {},
   "outputs": [
    {
     "name": "stdout",
     "output_type": "stream",
     "text": [
      "(58, 69)\n"
     ]
    }
   ],
   "source": [
    "class student:\n",
    "    def __init__(self,m1,m2):\n",
    "        self.m1 = m1\n",
    "        self.m2 = m2\n",
    "    def __str__(self): #overload __str__ \n",
    "        return self.m1,self.m2\n",
    "s1 = student(58,69)\n",
    "s2 = student(60,65)\n",
    "print(s1.__str__())\n",
    "#print(s1) #TypeError: __str__ returned non-string (type tuple)"
   ]
  },
  {
   "cell_type": "code",
   "execution_count": 115,
   "id": "57c13295",
   "metadata": {},
   "outputs": [
    {
     "name": "stdout",
     "output_type": "stream",
     "text": [
      "58 69\n",
      "60 65\n"
     ]
    }
   ],
   "source": [
    "class student:\n",
    "    def __init__(self,m1,m2):\n",
    "        self.m1 = m1\n",
    "        self.m2 = m2\n",
    "    def __str__(self): #overload __str__ \n",
    "        return '{} {}'.format(self.m1,self.m2)\n",
    "s1 = student(58,69)\n",
    "s2 = student(60,65)\n",
    "print(s1)\n",
    "print(s2)"
   ]
  },
  {
   "cell_type": "markdown",
   "id": "4825576d",
   "metadata": {},
   "source": [
    "# Type Casting\n",
    "- to convert one data type into another\n",
    "- If you try and pass in a string that can not be converted to a number such as \"hello\" you will get back a ValueError\n",
    "- not all strings can be converted to an integer\n",
    "\n",
    "#  type()\n",
    "- type function is used to find the data type of variable"
   ]
  },
  {
   "cell_type": "code",
   "execution_count": 165,
   "id": "5a062a7e",
   "metadata": {},
   "outputs": [
    {
     "name": "stdout",
     "output_type": "stream",
     "text": [
      "<class 'str'>\n",
      "<class 'int'>\n",
      "<class 'NoneType'>\n",
      "<class 'bool'>\n",
      "<class 'float'>\n",
      "<class 'complex'>\n",
      "<class 'list'>\n",
      "<class 'tuple'>\n",
      "<class 'dict'>\n",
      "<class 'set'>\n",
      "(4+5j)\n"
     ]
    }
   ],
   "source": [
    "a = 'this is string'\n",
    "b = 34\n",
    "c = None\n",
    "d = False\n",
    "e = 4.5\n",
    "f = complex(4,5) # or f = 4+5j\n",
    "g = [1,2,3]\n",
    "h = (2,3,4)\n",
    "i = {'a':23,\"b\":[2,7,8]}\n",
    "j = {4,5,\"hello\"}\n",
    "print(type(a))\n",
    "print(type(b))\n",
    "print(type(c))\n",
    "print(type(d))\n",
    "print(type(e))\n",
    "print(type(f))\n",
    "print(type(g))\n",
    "print(type(h))\n",
    "print(type(i))\n",
    "print(type(j))\n",
    "print(f)"
   ]
  },
  {
   "cell_type": "code",
   "execution_count": 60,
   "id": "ab834cef",
   "metadata": {},
   "outputs": [
    {
     "name": "stdout",
     "output_type": "stream",
     "text": [
      "<class 'int'>\n",
      "<class 'str'>\n"
     ]
    }
   ],
   "source": [
    "x = \"mat\"\n",
    "#type(int(x)) #ValueError: invalid literal for int() with base 10: 'mat'\n",
    "y = '10'\n",
    "print(type(int(y)))\n",
    "print(type(y))"
   ]
  },
  {
   "cell_type": "code",
   "execution_count": 145,
   "id": "c99361fd",
   "metadata": {},
   "outputs": [
    {
     "data": {
      "text/plain": [
       "False"
      ]
     },
     "execution_count": 145,
     "metadata": {},
     "output_type": "execute_result"
    }
   ],
   "source": [
    "a = 56\n",
    "b = \"56\"\n",
    "a==b"
   ]
  },
  {
   "cell_type": "markdown",
   "id": "23f1de9d",
   "metadata": {},
   "source": [
    "**Type cast function available**\n",
    "- int()\n",
    "    - str,float -> int\n",
    "- float()\n",
    "    - str, int -> float\n",
    "- str()\n",
    "    - int,float,list,tuple,dict -> str\n",
    "- list()\n",
    "    - str,tuple,set,dict -> list\n",
    "- tuple()\n",
    "    - str,list,set,dict -> tuple\n",
    "- set()\n",
    "    - str,list,tuple,dict -> set\n",
    "- complex()\n",
    "    - float,int -> complex"
   ]
  },
  {
   "cell_type": "code",
   "execution_count": 148,
   "id": "10a27f6c",
   "metadata": {},
   "outputs": [
    {
     "name": "stdout",
     "output_type": "stream",
     "text": [
      "56\n",
      "5\n"
     ]
    }
   ],
   "source": [
    "print(int('56'))\n",
    "print(int(5.6))\n",
    "#print(int([1,2,3,4])) #TypeError: int() argument must be a string, a bytes-like object or a number, not 'list'"
   ]
  },
  {
   "cell_type": "code",
   "execution_count": 152,
   "id": "54d7bce3",
   "metadata": {},
   "outputs": [
    {
     "name": "stdout",
     "output_type": "stream",
     "text": [
      "56.0\n",
      "5.0\n"
     ]
    }
   ],
   "source": [
    "print(float('56'))\n",
    "print(float(5))\n",
    "#print(float(complex(4,5))) #TypeError: can't convert complex to float"
   ]
  },
  {
   "cell_type": "code",
   "execution_count": 277,
   "id": "d827ac6e",
   "metadata": {},
   "outputs": [
    {
     "name": "stdout",
     "output_type": "stream",
     "text": [
      "5\n",
      "5.6\n",
      "[1, 2, 3, 4, 5]\n",
      "(1, 2, 3)\n",
      "{'a': 1, 'b': [1, 2]}\n",
      "<class 'str'>\n",
      "<class 'str'>\n",
      "<class 'str'>\n",
      "<class 'str'>\n",
      "<class 'str'>\n"
     ]
    }
   ],
   "source": [
    "print(str(5))\n",
    "print(str(5.6))\n",
    "print(str([1,2,3,4,5]))\n",
    "print(str((1,2,3)))\n",
    "print(str({'a':1,\"b\":[1,2]}))\n",
    "print(type(str(5)))\n",
    "print(type(str(5.6)))\n",
    "print(type(str([1,2,3,4])))\n",
    "print(type(str((1,2,3))))\n",
    "print(type(str({'a':1,\"b\":[1,2]})))"
   ]
  },
  {
   "cell_type": "code",
   "execution_count": 162,
   "id": "cb5c9f8b",
   "metadata": {},
   "outputs": [
    {
     "name": "stdout",
     "output_type": "stream",
     "text": [
      "['h', 'e', 'l', 'l', 'o']\n",
      "[1, 2, 3]\n",
      "['a', 'b']\n",
      "['good', 2, 3]\n",
      "<class 'list'>\n",
      "<class 'list'>\n",
      "<class 'list'>\n",
      "<class 'list'>\n"
     ]
    }
   ],
   "source": [
    "print(list(\"hello\"))\n",
    "print(list((1,2,3)))\n",
    "print(list({'a':1,\"b\":[1,2]}))\n",
    "print(list({2,3,\"good\"}))\n",
    "print(type(list(\"hello\")))\n",
    "print(type(list((1,2,3))))\n",
    "print(type(list({'a':1,\"b\":[1,2]})))\n",
    "print(type(list({2,3,\"good\"})))"
   ]
  },
  {
   "cell_type": "code",
   "execution_count": 168,
   "id": "78be41d6",
   "metadata": {},
   "outputs": [
    {
     "name": "stdout",
     "output_type": "stream",
     "text": [
      "('h', 'e', 'l', 'l', 'o')\n",
      "(1, 2, 3)\n",
      "('good', 2, 3)\n",
      "('a', 'b')\n",
      "<class 'tuple'>\n",
      "<class 'tuple'>\n",
      "<class 'tuple'>\n",
      "<class 'tuple'>\n"
     ]
    }
   ],
   "source": [
    "print(tuple(\"hello\"))\n",
    "print(tuple((1,2,3)))\n",
    "print(tuple({2,3,\"good\"}))\n",
    "print(tuple({'a':1,\"b\":[1,2]}))\n",
    "print(type(tuple(\"hello\")))\n",
    "print(type(tuple((1,2,3))))\n",
    "print(type(tuple({2,3,\"good\"})))\n",
    "print(type(tuple({'a':1,\"b\":[1,2]})))\n",
    "#print(tuple(56)) #TypeError: 'int' object is not iterable"
   ]
  },
  {
   "cell_type": "code",
   "execution_count": 174,
   "id": "84b097cf",
   "metadata": {},
   "outputs": [
    {
     "name": "stdout",
     "output_type": "stream",
     "text": [
      "{'l', 'h', 'o', 'e'}\n",
      "{1, 2, 3}\n",
      "{'good', 2, 3}\n",
      "('a', 'b')\n",
      "<class 'set'>\n",
      "<class 'set'>\n",
      "<class 'set'>\n",
      "<class 'set'>\n",
      "<class 'dict'>\n"
     ]
    }
   ],
   "source": [
    "print(set(\"hello\"))\n",
    "print(set([1,2,3]))\n",
    "print(set((2,3,\"good\")))\n",
    "print(tuple({'a':1,\"b\":[1,2]}))\n",
    "print(type(set(\"hello\")))\n",
    "print(type(set([1,2,3])))\n",
    "print(type(set((2,3,\"good\"))))\n",
    "print(type(set({'a':1,\"b\":[1,2]})))\n",
    "print(type({'a':1,\"b\":[1,2]}))"
   ]
  },
  {
   "cell_type": "markdown",
   "id": "534e2e5d",
   "metadata": {},
   "source": [
    "# input() function\n",
    "- This function allows the user to take input from keyword as a string\n",
    "- note that the output of input() is always string (even if the number is entered)"
   ]
  },
  {
   "cell_type": "code",
   "execution_count": 179,
   "id": "44e8cc59",
   "metadata": {},
   "outputs": [
    {
     "name": "stdout",
     "output_type": "stream",
     "text": [
      "enter your name:priya\n",
      "Entered name is priya\n"
     ]
    }
   ],
   "source": [
    "a = input(\"enter your name:\")\n",
    "print(\"Entered name is\",a)"
   ]
  },
  {
   "cell_type": "code",
   "execution_count": 183,
   "id": "1eb3728a",
   "metadata": {},
   "outputs": [
    {
     "name": "stdout",
     "output_type": "stream",
     "text": [
      "Enter first number:4\n",
      "Enter first number:5\n",
      "The sum is: 45\n"
     ]
    }
   ],
   "source": [
    "a = input(\"Enter first number:\")\n",
    "b = input(\"Enter first number:\")\n",
    "print(\"The sum is:\",a+b)"
   ]
  },
  {
   "cell_type": "code",
   "execution_count": 186,
   "id": "3be24b63",
   "metadata": {},
   "outputs": [
    {
     "name": "stdout",
     "output_type": "stream",
     "text": [
      "Enter first number:4\n",
      "Enter first number:5\n",
      "The sum is: 9\n"
     ]
    }
   ],
   "source": [
    "a = int(input(\"Enter first number:\"))\n",
    "b = int(input(\"Enter first number:\"))\n",
    "print(\"The sum is:\",a+b)"
   ]
  },
  {
   "cell_type": "code",
   "execution_count": 187,
   "id": "b71c15a5",
   "metadata": {},
   "outputs": [
    {
     "name": "stdout",
     "output_type": "stream",
     "text": [
      "Enter first number:4\n",
      "Enter first number:5\n",
      "The sum is: 8\n"
     ]
    }
   ],
   "source": [
    "ab = int(input(\"Enter first number:\"))\n",
    "bb = int(input(\"Enter first number:\"))\n",
    "print(\"The sum is:\",ab+ab)"
   ]
  },
  {
   "cell_type": "markdown",
   "id": "256a87b4",
   "metadata": {},
   "source": [
    "- taking single character"
   ]
  },
  {
   "cell_type": "code",
   "execution_count": 188,
   "id": "cf6e8a10",
   "metadata": {},
   "outputs": [
    {
     "name": "stdout",
     "output_type": "stream",
     "text": [
      "Enter your genderFemale\n",
      "F\n"
     ]
    }
   ],
   "source": [
    "Gender = input(\"Enter your gender\")[0]\n",
    "print(Gender)"
   ]
  },
  {
   "cell_type": "markdown",
   "id": "a1ff73b7",
   "metadata": {},
   "source": [
    "- eval function"
   ]
  },
  {
   "cell_type": "code",
   "execution_count": 189,
   "id": "64524e29",
   "metadata": {},
   "outputs": [
    {
     "name": "stdout",
     "output_type": "stream",
     "text": [
      "Enter the expression2+3*2\n",
      "8\n"
     ]
    }
   ],
   "source": [
    "exp = eval(input(\"Enter the expression\"))\n",
    "print(exp)"
   ]
  },
  {
   "cell_type": "markdown",
   "id": "616a0532",
   "metadata": {},
   "source": [
    "# Output formatting\n",
    "- syntax for a format placeholder is: \n",
    "    -  %[flags][width][.precision]type "
   ]
  },
  {
   "cell_type": "code",
   "execution_count": 195,
   "id": "aef7fceb",
   "metadata": {},
   "outputs": [
    {
     "name": "stdout",
     "output_type": "stream",
     "text": [
      "The salary of Suresh is 250000\n",
      "The salary of Suresh is 250000\n",
      "The salary of veena is 20000\n",
      "Salary of Suresh is 250000\n"
     ]
    }
   ],
   "source": [
    "name = \"Suresh\"\n",
    "salary = 250000\n",
    "print(\"The salary of %s is %d\"%(name,salary))\n",
    "print(\"The salary of %(m)s is %(n)d\"%{'n':salary,'m':name})\n",
    "print(\"The salary of %(m)s is %(n)d\"%{'n':20000,'m':\"veena\"})\n",
    "print(\"Salary of\",name,\"is\",salary)"
   ]
  },
  {
   "cell_type": "code",
   "execution_count": 196,
   "id": "cbe988e4",
   "metadata": {},
   "outputs": [
    {
     "name": "stdout",
     "output_type": "stream",
     "text": [
      "Salary of Suresh is 250000\n",
      "Salary of Suresh is 250000\n",
      "Salary of Suresh is 250000\n"
     ]
    }
   ],
   "source": [
    "print(\"Salary of {} is {}\".format(name,salary))\n",
    "print(\"Salary of {1} is {0}\".format(salary,name))\n",
    "print(\"Salary of {n} is {m}\".format(m=salary,n=name))"
   ]
  },
  {
   "cell_type": "code",
   "execution_count": 12,
   "id": "c914a9bd",
   "metadata": {},
   "outputs": [
    {
     "name": "stdout",
     "output_type": "stream",
     "text": [
      "Second argument:11, first one:  47.42\n",
      "Second argument: 11, first one: 47.420\n"
     ]
    }
   ],
   "source": [
    "print(\"Second argument:{1:d}, first one:{0:7.2f}\".format(47.42, 11))\n",
    "print(\"Second argument:{1:3d}, first one:{0:7.3f}\".format(47.42, 11))"
   ]
  },
  {
   "cell_type": "code",
   "execution_count": 10,
   "id": "956f7ac0",
   "metadata": {},
   "outputs": [
    {
     "name": "stdout",
     "output_type": "stream",
     "text": [
      "Space padding:     5\n",
      "Space padding:       5.43\n",
      "Space padding:     5\n",
      "Zero padding: 00005\n",
      "Zero padding: 00005\n",
      "Value: 3.33\n"
     ]
    }
   ],
   "source": [
    "#Zero and space padding\n",
    "a = 5\n",
    "print(\"Space padding: %5i\"%a)\n",
    "print(\"Space padding: %10.2f\"%(5.432))\n",
    "print('Space padding: {0:5d}'.format(a))\n",
    "print('Zero padding: {0:05d}'.format(a))\n",
    "print('Zero padding: %05i'%a)\n",
    "\n",
    "value = 3.3333333333\n",
    "print('Value: {0:.2f}'.format(value))"
   ]
  },
  {
   "cell_type": "code",
   "execution_count": 274,
   "id": "8e8903b4",
   "metadata": {},
   "outputs": [
    {
     "name": "stdout",
     "output_type": "stream",
     "text": [
      "   0021\n",
      "    021\n",
      " 3.561E+02\n"
     ]
    }
   ],
   "source": [
    "# print octal value\n",
    "print(\"%7.4o\" % (17))\n",
    "print(\"%7.3o\" % (17))\n",
    "\n",
    "# print exponential value\n",
    "print(\"%10.3E\" % (356.08977))"
   ]
  },
  {
   "cell_type": "code",
   "execution_count": 211,
   "id": "76bc04df",
   "metadata": {},
   "outputs": [
    {
     "name": "stdout",
     "output_type": "stream",
     "text": [
      "Hexadeicmal format: 11\n",
      "octal format: 21\n",
      "exponential format: 1.700000e+01\n"
     ]
    }
   ],
   "source": [
    "num = 17\n",
    "print(\"Hexadeicmal format: %x\"%num)\n",
    "# print(\"binary format: %b\"%num) # valueError: unsupported format character 'b' (0x62) at index 16\n",
    "print(\"octal format: %o\"%num)\n",
    "print(\"exponential format: %e\"%num)"
   ]
  },
  {
   "cell_type": "code",
   "execution_count": 212,
   "id": "9ad489e8",
   "metadata": {},
   "outputs": [
    {
     "name": "stdout",
     "output_type": "stream",
     "text": [
      "Binary format 10001\n",
      "Hexadecimal format 11\n",
      "Octal format 21\n",
      "Exponential format 1.700000e+01\n"
     ]
    }
   ],
   "source": [
    "num1=17\n",
    "print(\"Binary format {0:b}\".format(num))\n",
    "print(\"Hexadecimal format {0:x}\".format(num))\n",
    "print(\"Octal format {0:o}\".format(num))\n",
    "print(\"Exponential format {0:e}\".format(num))"
   ]
  },
  {
   "cell_type": "markdown",
   "id": "679fe020",
   "metadata": {},
   "source": [
    "- Taking multiple inputs from user in Python\n",
    "    - Syntax : \n",
    "        - input().split(separator, maxsplit) : this returns list"
   ]
  },
  {
   "cell_type": "code",
   "execution_count": 254,
   "id": "e60c7a6b",
   "metadata": {},
   "outputs": [
    {
     "name": "stdout",
     "output_type": "stream",
     "text": [
      "Enter two values:3 4\n",
      "3 4\n"
     ]
    },
    {
     "data": {
      "text/plain": [
       "str"
      ]
     },
     "execution_count": 254,
     "metadata": {},
     "output_type": "execute_result"
    }
   ],
   "source": [
    "boys,girls = input(\"Enter two values:\").split()\n",
    "print(boys,girls)\n",
    "type(boys)"
   ]
  },
  {
   "cell_type": "code",
   "execution_count": 247,
   "id": "42d81f69",
   "metadata": {},
   "outputs": [
    {
     "name": "stdout",
     "output_type": "stream",
     "text": [
      "Enter three values:5 6 7\n",
      "5 6 7\n"
     ]
    }
   ],
   "source": [
    "x,y,z = input(\"Enter three values:\").split()\n",
    "print(x,y,z)"
   ]
  },
  {
   "cell_type": "code",
   "execution_count": 249,
   "id": "e4f3f902",
   "metadata": {},
   "outputs": [
    {
     "name": "stdout",
     "output_type": "stream",
     "text": [
      "Enter two values:3 4 5 6 7\n",
      "['3', '4', '5', '6', '7']\n",
      "<class 'list'>\n"
     ]
    }
   ],
   "source": [
    "num1 = input(\"Enter two values:\").split()\n",
    "print(num1)\n",
    "print(type(num1))"
   ]
  },
  {
   "cell_type": "code",
   "execution_count": 253,
   "id": "42a1410f",
   "metadata": {},
   "outputs": [
    {
     "name": "stdout",
     "output_type": "stream",
     "text": [
      "Enter two values:2 3 4 5 6\n",
      "[2, 3, 4, 5, 6]\n",
      "<class 'list'>\n"
     ]
    }
   ],
   "source": [
    "#num1 = int(input(\"Enter two values:\").split()) #TypeError: int() argument must be a string, a bytes-like object or a number, not 'list'\n",
    "num1 = list(map(int,input(\"Enter two values:\").split()))\n",
    "print(num1)\n",
    "print(type(num1))"
   ]
  },
  {
   "cell_type": "code",
   "execution_count": 256,
   "id": "df43d87f",
   "metadata": {},
   "outputs": [
    {
     "name": "stdout",
     "output_type": "stream",
     "text": [
      "Enter two values:9 1\n",
      "9\n",
      "1\n"
     ]
    }
   ],
   "source": [
    "x,y = [int(x) for x in input(\"Enter two values:\").split()]\n",
    "print(x)\n",
    "print(y)"
   ]
  },
  {
   "cell_type": "code",
   "execution_count": 257,
   "id": "c0450e1b",
   "metadata": {},
   "outputs": [
    {
     "name": "stdout",
     "output_type": "stream",
     "text": [
      "Enter two values:2 3 4 5 6 7\n",
      "[2, 3, 4, 5, 6, 7]\n"
     ]
    }
   ],
   "source": [
    "x = [int(x) for x in input(\"Enter two values:\").split()]\n",
    "print(x)"
   ]
  },
  {
   "cell_type": "code",
   "execution_count": 259,
   "id": "6bd44581",
   "metadata": {},
   "outputs": [
    {
     "name": "stdout",
     "output_type": "stream",
     "text": [
      "Enter two values:3,4,5,6,7\n",
      "[3, 4, 5, 6, 7]\n"
     ]
    }
   ],
   "source": [
    "x = [int(x) for x in input(\"Enter two values:\").split(',')]\n",
    "print(x)"
   ]
  },
  {
   "cell_type": "code",
   "execution_count": 280,
   "id": "3f17bbeb",
   "metadata": {},
   "outputs": [
    {
     "name": "stdout",
     "output_type": "stream",
     "text": [
      "The original list is : [{'a': '1', 'b': '2'}, {'c': '3', 'd': '4'}]\n",
      "{'a': '1', 'b': '2'}\n",
      "{'c': '3', 'd': '4'}\n",
      "The modified converted list is : [{'a': 1, 'b': 2}, {'c': 3, 'd': 4}]\n"
     ]
    }
   ],
   "source": [
    "# Type conversion in list of dicts.\n",
    "# using naive method\n",
    " \n",
    "# initializing list of dictionary\n",
    "test_list = [{'a' : '1', 'b' : '2'}, { 'c' : '3', 'd' : '4'}]\n",
    " \n",
    "# printing original list\n",
    "print (\"The original list is : \" + str(test_list))\n",
    " \n",
    "# using naive method\n",
    "# type conversation in list of dicts.\n",
    "for dicts in test_list:\n",
    "    print(dicts)\n",
    "    for keys in dicts:\n",
    "        dicts[keys] = int(dicts[keys])\n",
    "# printing result\n",
    "print (\"The modified converted list is : \" +  str(test_list))"
   ]
  },
  {
   "cell_type": "code",
   "execution_count": 282,
   "id": "f8831ce6",
   "metadata": {},
   "outputs": [
    {
     "name": "stdout",
     "output_type": "stream",
     "text": [
      "My Na'me\n",
      "is \tHar\"ry\n"
     ]
    }
   ],
   "source": [
    "#Escape Character single and double quotes\n",
    "myname = \"My Na\\'me\\nis \\tHar\\\"ry\"\n",
    "print(myname)"
   ]
  },
  {
   "cell_type": "code",
   "execution_count": null,
   "id": "1f3017b1",
   "metadata": {},
   "outputs": [],
   "source": []
  }
 ],
 "metadata": {
  "kernelspec": {
   "display_name": "Python 3 (ipykernel)",
   "language": "python",
   "name": "python3"
  },
  "language_info": {
   "codemirror_mode": {
    "name": "ipython",
    "version": 3
   },
   "file_extension": ".py",
   "mimetype": "text/x-python",
   "name": "python",
   "nbconvert_exporter": "python",
   "pygments_lexer": "ipython3",
   "version": "3.9.7"
  }
 },
 "nbformat": 4,
 "nbformat_minor": 5
}
