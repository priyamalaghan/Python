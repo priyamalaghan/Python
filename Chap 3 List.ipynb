{
 "cells": [
  {
   "cell_type": "markdown",
   "id": "e1244e63",
   "metadata": {},
   "source": [
    "- A list is a data structure in Python that is a mutable, or changeable, ordered sequence of elements.\n",
    "- A list is a collection or a sequence of compounded datatypes\n",
    "- lists are defined by having values between square brackets [ ]"
   ]
  },
  {
   "cell_type": "code",
   "execution_count": 1,
   "id": "00873064",
   "metadata": {
    "scrolled": true
   },
   "outputs": [
    {
     "data": {
      "text/plain": [
       "['__add__',\n",
       " '__class__',\n",
       " '__class_getitem__',\n",
       " '__contains__',\n",
       " '__delattr__',\n",
       " '__delitem__',\n",
       " '__dir__',\n",
       " '__doc__',\n",
       " '__eq__',\n",
       " '__format__',\n",
       " '__ge__',\n",
       " '__getattribute__',\n",
       " '__getitem__',\n",
       " '__gt__',\n",
       " '__hash__',\n",
       " '__iadd__',\n",
       " '__imul__',\n",
       " '__init__',\n",
       " '__init_subclass__',\n",
       " '__iter__',\n",
       " '__le__',\n",
       " '__len__',\n",
       " '__lt__',\n",
       " '__mul__',\n",
       " '__ne__',\n",
       " '__new__',\n",
       " '__reduce__',\n",
       " '__reduce_ex__',\n",
       " '__repr__',\n",
       " '__reversed__',\n",
       " '__rmul__',\n",
       " '__setattr__',\n",
       " '__setitem__',\n",
       " '__sizeof__',\n",
       " '__str__',\n",
       " '__subclasshook__',\n",
       " 'append',\n",
       " 'clear',\n",
       " 'copy',\n",
       " 'count',\n",
       " 'extend',\n",
       " 'index',\n",
       " 'insert',\n",
       " 'pop',\n",
       " 'remove',\n",
       " 'reverse',\n",
       " 'sort']"
      ]
     },
     "execution_count": 1,
     "metadata": {},
     "output_type": "execute_result"
    }
   ],
   "source": [
    "dir(list)"
   ]
  },
  {
   "cell_type": "markdown",
   "id": "8201de7b",
   "metadata": {},
   "source": [
    "# List methods"
   ]
  },
  {
   "cell_type": "markdown",
   "id": "d2f96c9e",
   "metadata": {},
   "source": [
    "- list.append(element)\n",
    "    - Add an item to the end of the list.\n",
    "    - Syntax: list.append (element)\n",
    "- list.insert(i, x)\n",
    "    - Inserts an elements at specified position.\n",
    "    - Syntax: list.insert(i, x)\n",
    "- list.extend(iterable)\n",
    "    - Adds contents to List2 to the end of List1.\n",
    "    - Syntax: List1.extend(List2)\n",
    "- list.remove(x)\n",
    "    - Removes item from the list\n",
    "    - Syntax: List.remove(element)\n",
    "- del() : Element to be deleted is mentioned using list name and index.\n",
    "    - Syntax: del list[index]\n",
    "    - del list[:] : removes all elements\n",
    "- list.pop([i])\n",
    "    - Remove the item at the given position in the list, and return it. If no index is specified, a.pop() removes and returns the last item in the list.\n",
    "    - Syntax: list.pop([index])\n",
    "- list.reverse()\n",
    "    - Reverse the elements of the list in place.\n",
    "- list.sort(key=None, reverse=False)\n",
    "    - sorts the elements of a given list in a specific ascending or descending order.\n",
    "- sorted(list, key, reverse)\n",
    "- The simplest difference between sort() and sorted() is: sort() changes the list directly and doesn't return any value, while sorted() doesn't change the list and returns the sorted list.\n",
    "- list.clear()\n",
    "    - removes all items from the list.\n",
    "    - syntax : list.clear()\n",
    "    - It doesn't return any value.\n",
    "- list.copy()\n",
    "    - returns a shallow copy of the list\n",
    "    - syntax : new_list = list.copy()\n",
    "    - The copy() method returns a new list. It doesn't modify the original list."
   ]
  },
  {
   "cell_type": "code",
   "execution_count": 2,
   "id": "a05dc614",
   "metadata": {},
   "outputs": [
    {
     "data": {
      "text/plain": [
       "['Mathematics', 'chemistry', 1997, 2000, 'Physics']"
      ]
     },
     "execution_count": 2,
     "metadata": {},
     "output_type": "execute_result"
    }
   ],
   "source": [
    "List = ['Mathematics', 'chemistry', 1997, 2000]\n",
    "List.append(\"Physics\")\n",
    "List"
   ]
  },
  {
   "cell_type": "code",
   "execution_count": 3,
   "id": "4f8c401e",
   "metadata": {},
   "outputs": [
    {
     "data": {
      "text/plain": [
       "['Mathematics', 20021, 'chemistry', 1997, 2000]"
      ]
     },
     "execution_count": 3,
     "metadata": {},
     "output_type": "execute_result"
    }
   ],
   "source": [
    "List = ['Mathematics', 'chemistry', 1997, 2000]\n",
    "List.insert(1,20021)\n",
    "List"
   ]
  },
  {
   "cell_type": "code",
   "execution_count": 4,
   "id": "3f9fef96",
   "metadata": {},
   "outputs": [
    {
     "name": "stdout",
     "output_type": "stream",
     "text": [
      "[1, 2, 3, 2, 3, 4, 5]\n",
      "[2, 3, 4, 5, 1, 2, 3, 2, 3, 4, 5]\n"
     ]
    }
   ],
   "source": [
    "List1 = [1, 2, 3]\n",
    "List2 = [2, 3, 4, 5]\n",
    "List1.extend(List2)\n",
    "print(List1)\n",
    "List2.extend(List1)\n",
    "print(List2)"
   ]
  },
  {
   "cell_type": "code",
   "execution_count": 5,
   "id": "63f0769e",
   "metadata": {},
   "outputs": [
    {
     "name": "stdout",
     "output_type": "stream",
     "text": [
      "[2.3, 4.445, 5.33, 2.5]\n"
     ]
    }
   ],
   "source": [
    "List = [2.3, 4.445, 3, 5.33, 1.054, 2.5]\n",
    "List.remove(3)\n",
    "List.remove(1.054)\n",
    "print(List)"
   ]
  },
  {
   "cell_type": "code",
   "execution_count": 6,
   "id": "a7adf347",
   "metadata": {},
   "outputs": [
    {
     "name": "stdout",
     "output_type": "stream",
     "text": [
      "[2.3, 3, 5.33, 1.054, 2.5]\n"
     ]
    }
   ],
   "source": [
    "List = [2.3, 4.445, 3, 5.33, 1.054, 2.5]\n",
    "del List[1]\n",
    "print(List)"
   ]
  },
  {
   "cell_type": "code",
   "execution_count": 7,
   "id": "2488c127",
   "metadata": {},
   "outputs": [
    {
     "name": "stdout",
     "output_type": "stream",
     "text": [
      "2.5\n",
      "4.445\n"
     ]
    }
   ],
   "source": [
    "List = [2.3, 4.445, 3, 5.33, 1.054, 2.5]\n",
    "print(List.pop())\n",
    "print(List.pop(1))"
   ]
  },
  {
   "cell_type": "code",
   "execution_count": 8,
   "id": "f4991419",
   "metadata": {},
   "outputs": [
    {
     "data": {
      "text/plain": [
       "[2.5, 1.054, 5.33, 3, 4.445, 2.3]"
      ]
     },
     "execution_count": 8,
     "metadata": {},
     "output_type": "execute_result"
    }
   ],
   "source": [
    "List = [2.3, 4.445, 3, 5.33, 1.054, 2.5]\n",
    "List.reverse()\n",
    "List"
   ]
  },
  {
   "cell_type": "code",
   "execution_count": 9,
   "id": "06053999",
   "metadata": {},
   "outputs": [
    {
     "name": "stdout",
     "output_type": "stream",
     "text": [
      "Reversed List: [7, 5, 3, 2]\n"
     ]
    }
   ],
   "source": [
    "# create a list of prime numbers\n",
    "prime_numbers = [2, 3, 5, 7]\n",
    "# reverse the order of list elements\n",
    "prime_numbers.reverse()\n",
    "print('Reversed List:', prime_numbers)"
   ]
  },
  {
   "cell_type": "code",
   "execution_count": 10,
   "id": "89b01f80",
   "metadata": {},
   "outputs": [
    {
     "data": {
      "text/plain": [
       "[1.054, 2.3, 2.5, 3, 4.445, 5.33]"
      ]
     },
     "execution_count": 10,
     "metadata": {},
     "output_type": "execute_result"
    }
   ],
   "source": [
    "List = [2.3, 4.445, 3, 5.33, 1.054, 2.5]\n",
    "List.sort()\n",
    "List"
   ]
  },
  {
   "cell_type": "code",
   "execution_count": 11,
   "id": "c91c5416",
   "metadata": {},
   "outputs": [
    {
     "data": {
      "text/plain": [
       "[5.33, 4.445, 3, 2.5, 2.3, 1.054]"
      ]
     },
     "execution_count": 11,
     "metadata": {},
     "output_type": "execute_result"
    }
   ],
   "source": [
    "List = [2.3, 4.445, 3, 5.33, 1.054, 2.5]\n",
    "List.sort(reverse=True)\n",
    "List"
   ]
  },
  {
   "cell_type": "code",
   "execution_count": 12,
   "id": "476c42d7",
   "metadata": {},
   "outputs": [
    {
     "data": {
      "text/plain": [
       "[1.054, 2.3, 2.5, 3, 4.445, 5.33]"
      ]
     },
     "execution_count": 12,
     "metadata": {},
     "output_type": "execute_result"
    }
   ],
   "source": [
    "List1 = [2.3, 4.445, 3, 5.33, 1.054, 2.5]\n",
    "sorted(List1)"
   ]
  },
  {
   "cell_type": "code",
   "execution_count": 13,
   "id": "f2034248",
   "metadata": {},
   "outputs": [
    {
     "data": {
      "text/plain": [
       "[5.33, 4.445, 3, 2.5, 2.3, 1.054]"
      ]
     },
     "execution_count": 13,
     "metadata": {},
     "output_type": "execute_result"
    }
   ],
   "source": [
    "List1 = [2.3, 4.445, 3, 5.33, 1.054, 2.5]\n",
    "sorted(List1,reverse=True)"
   ]
  },
  {
   "cell_type": "markdown",
   "id": "83047537",
   "metadata": {},
   "source": [
    "**sum(), count(), index(), min() and max() functions of List**\n",
    "- sum() : Calculates sum of all the elements of List.\n",
    "    - Syntax: sum(List)\n",
    "- count():Calculates total occurrence of given element of List.\n",
    "    - Syntax: List.count(element)\n",
    "- length:Calculates total length of List.\n",
    "    - Syntax: len(list_name)\n",
    "- index(): Returns the index of first occurrence. Start and End index are not necessary parameters.\n",
    "    - Syntax: List.index(element[,start[,end]])\n",
    "- min() : Calculates minimum of all the elements of List.\n",
    "    - Syntax: min(List)\n",
    "- max(): Calculates maximum of all the elements of List.\n",
    "    - Syntax: max(List)"
   ]
  },
  {
   "cell_type": "code",
   "execution_count": 14,
   "id": "3db3ad96",
   "metadata": {},
   "outputs": [
    {
     "name": "stdout",
     "output_type": "stream",
     "text": [
      "15\n"
     ]
    }
   ],
   "source": [
    "List = [1,8,4,2,0]\n",
    "print(sum(List))"
   ]
  },
  {
   "cell_type": "code",
   "execution_count": 15,
   "id": "f30df0e8",
   "metadata": {},
   "outputs": [
    {
     "name": "stdout",
     "output_type": "stream",
     "text": [
      "6\n",
      "21\n"
     ]
    }
   ],
   "source": [
    "Dict = {1:2,3:4,2:1}\n",
    "print(sum(Dict))\n",
    "Tuple = (2,5,1,5,8)\n",
    "print(sum(Tuple))\n",
    "#string = \"geeks\"\n",
    "#print(sum(string)) #TypeError: unsupported operand type(s) for +: 'int' and 'str'\n",
    "#list1 = ['abc','xyz',3]\n",
    "#print(sum(list1)) #TypeError: unsupported operand type(s) for +: 'int' and 'str'"
   ]
  },
  {
   "cell_type": "code",
   "execution_count": 16,
   "id": "9d6e289a",
   "metadata": {},
   "outputs": [
    {
     "name": "stdout",
     "output_type": "stream",
     "text": [
      "4\n"
     ]
    }
   ],
   "source": [
    "List = [1, 2, 3, 1, 2, 1, 2, 3, 2, 1]\n",
    "print(List.count(1))"
   ]
  },
  {
   "cell_type": "code",
   "execution_count": 17,
   "id": "843b9534",
   "metadata": {},
   "outputs": [
    {
     "name": "stdout",
     "output_type": "stream",
     "text": [
      "2\n",
      "0\n",
      "3\n"
     ]
    }
   ],
   "source": [
    "List = [\"abc\",'abc','xyz','mnop']\n",
    "print(List.count('abc'))\n",
    "List = ['ABABABC']\n",
    "print(List.count('A'))\n",
    "string = \"ABABABC\"\n",
    "print(string.count('A'))"
   ]
  },
  {
   "cell_type": "code",
   "execution_count": 18,
   "id": "fde815cc",
   "metadata": {},
   "outputs": [
    {
     "name": "stdout",
     "output_type": "stream",
     "text": [
      "1\n",
      "4\n"
     ]
    }
   ],
   "source": [
    "List = [1, 2, 3, 1, 2, 1, 2, 3, 2, 1]\n",
    "print(List.index(2))\n",
    "print(List.index(2,3,6))"
   ]
  },
  {
   "cell_type": "code",
   "execution_count": 19,
   "id": "67877bb9",
   "metadata": {},
   "outputs": [
    {
     "name": "stdout",
     "output_type": "stream",
     "text": [
      "1.054\n",
      "5.33\n",
      "Abc\n"
     ]
    }
   ],
   "source": [
    "List = [2.3, 4.445, 3, 5.33, 1.054, 2.5]\n",
    "print(min(List))\n",
    "List = [2.3, 4.445, 3, 5.33, 1.054, 2.5]\n",
    "print(max(List))\n",
    "List = [\"abc\",'Abc','xyz','mnop']\n",
    "print(min(List))"
   ]
  },
  {
   "cell_type": "code",
   "execution_count": 1,
   "id": "dd2e2786",
   "metadata": {},
   "outputs": [
    {
     "name": "stdout",
     "output_type": "stream",
     "text": [
      "[(1, 3), (2, 2), (3, 4), (4, 1)]\n",
      "\n",
      "Using key\n",
      "[(4, 1), (2, 2), (1, 3), (3, 4)]\n"
     ]
    }
   ],
   "source": [
    "#Sort the list using key\n",
    "random = [(2, 2), (3, 4), (4, 1), (1, 3)]\n",
    "random.sort()\n",
    "print(random)\n",
    "\n",
    "print(\"\\nUsing key\")\n",
    "\n",
    "def takesecond(ele):\n",
    "    return ele[1]\n",
    "random1 = [(2, 2), (3, 4), (4, 1), (1, 3)]\n",
    "random1.sort(key=takesecond)\n",
    "print(random1)"
   ]
  },
  {
   "cell_type": "code",
   "execution_count": 2,
   "id": "6863caef",
   "metadata": {},
   "outputs": [
    {
     "name": "stdout",
     "output_type": "stream",
     "text": [
      "None\n"
     ]
    }
   ],
   "source": [
    "random2 = [(2, 2), (3, 4), (4, 1), (1, 3)]\n",
    "def sum1(ele):\n",
    "    return (ele[0]+ele[1])\n",
    "print(random2.sort(key=sum1))"
   ]
  },
  {
   "cell_type": "code",
   "execution_count": 22,
   "id": "6d7ff44f",
   "metadata": {},
   "outputs": [
    {
     "name": "stdout",
     "output_type": "stream",
     "text": [
      "[(2, 2), (1, 3), (4, 1), (3, 4)]\n"
     ]
    }
   ],
   "source": [
    "print(sorted([(2, 2), (3, 4), (4, 1), (1, 3)], key=lambda x: sum(x)))"
   ]
  },
  {
   "cell_type": "code",
   "execution_count": 23,
   "id": "b79a3948",
   "metadata": {},
   "outputs": [
    {
     "name": "stdout",
     "output_type": "stream",
     "text": [
      "[(2, 2), (1, 3), (4, 1), (3, 4)]\n"
     ]
    }
   ],
   "source": [
    "random2 = [(2, 2), (3, 4), (4, 1), (1, 3)]\n",
    "def sum1(ele):\n",
    "    return ele[0]+ele[1]\n",
    "print(sorted(random2,key=sum1))"
   ]
  },
  {
   "cell_type": "code",
   "execution_count": 28,
   "id": "8cbc7df3",
   "metadata": {},
   "outputs": [
    {
     "name": "stdout",
     "output_type": "stream",
     "text": [
      "[{'Name': 'Alan Turing', 'age': 25, 'salary': 10000}, {'Name': 'John Hopkins', 'age': 18, 'salary': 1000}, {'Name': 'Mikhail Tal', 'age': 40, 'salary': 15000}, {'Name': 'Sharon Lin', 'age': 30, 'salary': 8000}] \n",
      "\n",
      "[{'Name': 'John Hopkins', 'age': 18, 'salary': 1000}, {'Name': 'Alan Turing', 'age': 25, 'salary': 10000}, {'Name': 'Sharon Lin', 'age': 30, 'salary': 8000}, {'Name': 'Mikhail Tal', 'age': 40, 'salary': 15000}] \n",
      "\n",
      "[{'Name': 'Mikhail Tal', 'age': 40, 'salary': 15000}, {'Name': 'Alan Turing', 'age': 25, 'salary': 10000}, {'Name': 'Sharon Lin', 'age': 30, 'salary': 8000}, {'Name': 'John Hopkins', 'age': 18, 'salary': 1000}]\n"
     ]
    }
   ],
   "source": [
    "employees = [\n",
    "    {'Name': 'Alan Turing', 'age': 25, 'salary': 10000},\n",
    "    {'Name': 'Sharon Lin', 'age': 30, 'salary': 8000},\n",
    "    {'Name': 'John Hopkins', 'age': 18, 'salary': 1000},\n",
    "    {'Name': 'Mikhail Tal', 'age': 40, 'salary': 15000},\n",
    "]\n",
    "# custom functions to get employee info\n",
    "def get_name(emp):\n",
    "    return emp.get('Name')\n",
    "def get_age(emp):\n",
    "    return emp.get('age')\n",
    "def get_salary(emp):\n",
    "    return emp.get('salary')\n",
    "\n",
    "# sort by name (Ascending order)\n",
    "employees.sort(key= get_name)\n",
    "print(employees,\"\\n\")\n",
    "# sort by Age (Ascending order)\n",
    "employees.sort(key=get_age)\n",
    "print(employees,'\\n')\n",
    "# sort by salary (Descending order)\n",
    "print(sorted(employees,key=get_salary,reverse=True))"
   ]
  },
  {
   "cell_type": "code",
   "execution_count": 29,
   "id": "4483a994",
   "metadata": {},
   "outputs": [
    {
     "name": "stdout",
     "output_type": "stream",
     "text": [
      "[{'Name': 'Alan Turing', 'age': 25, 'salary': 10000}, {'Name': 'John Hopkins', 'age': 18, 'salary': 1000}, {'Name': 'Mikhail Tal', 'age': 40, 'salary': 15000}, {'Name': 'Sharon Lin', 'age': 30, 'salary': 8000}] \n",
      "\n",
      "[{'Name': 'John Hopkins', 'age': 18, 'salary': 1000}, {'Name': 'Alan Turing', 'age': 25, 'salary': 10000}, {'Name': 'Sharon Lin', 'age': 30, 'salary': 8000}, {'Name': 'Mikhail Tal', 'age': 40, 'salary': 15000}] \n",
      "\n",
      "[{'Name': 'Mikhail Tal', 'age': 40, 'salary': 15000}, {'Name': 'Alan Turing', 'age': 25, 'salary': 10000}, {'Name': 'Sharon Lin', 'age': 30, 'salary': 8000}, {'Name': 'John Hopkins', 'age': 18, 'salary': 1000}]\n"
     ]
    }
   ],
   "source": [
    "employees = [\n",
    "    {'Name': 'Alan Turing', 'age': 25, 'salary': 10000},\n",
    "    {'Name': 'Sharon Lin', 'age': 30, 'salary': 8000},\n",
    "    {'Name': 'John Hopkins', 'age': 18, 'salary': 1000},\n",
    "    {'Name': 'Mikhail Tal', 'age': 40, 'salary': 15000},\n",
    "]\n",
    "\n",
    "# sort by name (Ascending order)\n",
    "employees.sort(key= lambda x : x.get('Name'))\n",
    "print(employees,\"\\n\")\n",
    "# sort by Age (Ascending order)\n",
    "employees.sort(key= lambda x : x.get('age'))\n",
    "print(employees,'\\n')\n",
    "# sort by salary (Descending order)\n",
    "print(sorted(employees,key=lambda x : x.get('salary'),reverse=True))"
   ]
  },
  {
   "cell_type": "code",
   "execution_count": 33,
   "id": "d88f3e1e",
   "metadata": {},
   "outputs": [
    {
     "name": "stdout",
     "output_type": "stream",
     "text": [
      "None\n",
      "[]\n"
     ]
    }
   ],
   "source": [
    "prime_numbers = [2, 3, 5, 7, 9, 11]\n",
    "print(prime_numbers.clear())\n",
    "print(prime_numbers)"
   ]
  },
  {
   "cell_type": "code",
   "execution_count": 37,
   "id": "24c87b73",
   "metadata": {},
   "outputs": [
    {
     "name": "stdout",
     "output_type": "stream",
     "text": [
      "Copied list: [2, 3, 5]\n",
      "True\n",
      "False\n",
      "Prime_num: [2, 3, 5]\n",
      "num: [2, 3, 5]\n",
      "To append\n",
      "Prime_num: [2, 3, 5, 'a']\n",
      "num: [2, 3, 5]\n"
     ]
    }
   ],
   "source": [
    "#SHallow copy\n",
    "prime_num = [2,3,5]\n",
    "num = prime_num.copy()\n",
    "print(\"Copied list:\",num)\n",
    "print(prime_num == num)\n",
    "print(prime_num is num)\n",
    "print('Prime_num:',prime_num)\n",
    "print('num:',num)\n",
    "print(\"To append\")\n",
    "prime_num.append('a')\n",
    "print('Prime_num:',prime_num)\n",
    "print('num:',num)"
   ]
  },
  {
   "cell_type": "code",
   "execution_count": 38,
   "id": "0d8ca4d9",
   "metadata": {},
   "outputs": [
    {
     "name": "stdout",
     "output_type": "stream",
     "text": [
      "old_list: [0.1, 2.2, 3]\n",
      "new_list: [0.1, 2.2, 3]\n",
      "True\n",
      "True\n",
      "To append\n",
      "old_list: [0.1, 2.2, 3, 'a']\n",
      "new_list: [0.1, 2.2, 3, 'a']\n",
      "True\n",
      "True\n"
     ]
    }
   ],
   "source": [
    "#List copy using =\n",
    "#there is one problem with copying lists in this way. If you modify new_list, old_list is also modified\n",
    "#It is because the new list is referencing or pointing to the same old_list object.\n",
    "\n",
    "#n Python, we use = operator to create a copy of an object. You may think that this creates a new object; it doesn't. \n",
    "#It only creates a new variable that shares the reference of the original object.\n",
    "\n",
    "old_list = [0.1, 2.2, 3]\n",
    "new_list = old_list\n",
    "print(\"old_list:\",old_list)\n",
    "print(\"new_list:\",new_list)\n",
    "print(old_list == new_list)\n",
    "print(old_list is new_list)\n",
    "print(\"To append\")\n",
    "old_list.append('a')\n",
    "print(\"old_list:\",old_list)\n",
    "print(\"new_list:\",new_list)\n",
    "print(old_list == new_list)\n",
    "print(old_list is new_list)"
   ]
  },
  {
   "cell_type": "code",
   "execution_count": 39,
   "id": "b91b1acb",
   "metadata": {},
   "outputs": [
    {
     "name": "stdout",
     "output_type": "stream",
     "text": [
      "old_list: [0.1, 2.2, 3]\n",
      "new_list: [0.1, 2.2, 3]\n",
      "True\n",
      "False\n",
      "To append\n",
      "old_list: [0.1, 2.2, 3, 'a']\n",
      "new_list: [0.1, 2.2, 3]\n",
      "False\n",
      "False\n"
     ]
    }
   ],
   "source": [
    "#Using slicing :\n",
    "old_list = [0.1, 2.2, 3]\n",
    "new_list = old_list[:]\n",
    "print(\"old_list:\",old_list)\n",
    "print(\"new_list:\",new_list)\n",
    "print(old_list == new_list)\n",
    "print(old_list is new_list)\n",
    "print(\"To append\")\n",
    "old_list.append('a')\n",
    "print(\"old_list:\",old_list)\n",
    "print(\"new_list:\",new_list)\n",
    "print(old_list == new_list)\n",
    "print(old_list is new_list)"
   ]
  },
  {
   "cell_type": "markdown",
   "id": "2eb93107",
   "metadata": {},
   "source": [
    "# Using Lists as Stacks : (“last-in, first-out”)."
   ]
  },
  {
   "cell_type": "code",
   "execution_count": 45,
   "id": "b6b09302",
   "metadata": {},
   "outputs": [
    {
     "name": "stdout",
     "output_type": "stream",
     "text": [
      "[3, 4, 5, 6, 7]\n",
      "[3, 4, 5]\n"
     ]
    }
   ],
   "source": [
    "stack = [3,4,5]\n",
    "stack.append(6)\n",
    "stack.append(7)\n",
    "print(stack)\n",
    "stack.pop()\n",
    "stack.pop()\n",
    "print(stack)\n",
    "#stack.popleft() #AttributeError: 'list' object has no attribute 'popleft'"
   ]
  },
  {
   "cell_type": "markdown",
   "id": "5ec4b006",
   "metadata": {},
   "source": [
    "# Using Lists as Queues : (“first-in, first-out”)"
   ]
  },
  {
   "cell_type": "code",
   "execution_count": 47,
   "id": "176349e7",
   "metadata": {},
   "outputs": [
    {
     "name": "stdout",
     "output_type": "stream",
     "text": [
      "deque(['Eric', 'John', 'Michael', 'Terry', 'Graham'])\n",
      "deque(['Michael', 'Terry', 'Graham'])\n"
     ]
    }
   ],
   "source": [
    "from collections import deque\n",
    "queue = deque([\"Eric\", \"John\", \"Michael\"])\n",
    "queue.append(\"Terry\")\n",
    "queue.append(\"Graham\")\n",
    "print(queue)\n",
    "queue.popleft()\n",
    "queue.popleft()\n",
    "print(queue)"
   ]
  },
  {
   "cell_type": "markdown",
   "id": "648bac18",
   "metadata": {},
   "source": [
    "# List Comprehensions\n",
    "- A list comprehension consists of brackets containing an expression followed by a for clause, then zero or more for or if clauses. \n",
    "- The result will be a new list resulting from evaluating the expression in the context of the for and if clauses which follow it. \n",
    "    - Syntax of List Comprehension: [expression for item in list]\n",
    "- List Comprehension allows us to create a list using for loop with lesser code. \n",
    "- every list comprehension can be rewritten in for loop, but every for loop can’t be rewritten in the form of list comprehension.\n",
    "- The difference between list comprehensions and generator expression\n",
    "    - Generator Expressions are somewhat similar to list comprehensions, but the former doesn’t construct list object. I\n",
    "    - nstead of creating a list and keeping the whole sequence in the memory, the generator generates the next element in demand.\n",
    "    - The Generator Expression allows us to create a generator without the yield keyword.\n",
    "    - Syntax Difference: Parenthesis are used in place of square brackets.\n",
    "    - The generator yields one item at a time and generates item only when in demand. Whereas, in a list comprehension, Python reserves memory for the whole list. Thus we can say that the generator expressions are memory efficient than the lists.\n",
    "    - generator expressions are faster than list comprehension and hence time efficient"
   ]
  },
  {
   "cell_type": "code",
   "execution_count": 1,
   "id": "e5c258cc",
   "metadata": {},
   "outputs": [
    {
     "name": "stdout",
     "output_type": "stream",
     "text": [
      "To find square numbers using loop\n",
      "[0, 1, 4, 9, 16, 25, 36, 49, 64, 81]\n",
      "\n",
      "To find square numbers using lambda\n",
      "[0, 1, 4, 9, 16, 25, 36, 49, 64, 81]\n",
      "\n",
      "To find square numbers using list comprehension\n",
      "[0, 1, 4, 9, 16, 25, 36, 49, 64, 81]\n"
     ]
    }
   ],
   "source": [
    "print(\"To find square numbers using loop\")\n",
    "squares = []\n",
    "for x in range(10):\n",
    "    squares.append(x*x)\n",
    "print(squares)\n",
    "\n",
    "print(\"\\nTo find square numbers using lambda\")\n",
    "square = list(map(lambda x:x*x, range(10)))\n",
    "print(square)\n",
    "\n",
    "print(\"\\nTo find square numbers using list comprehension\")\n",
    "square1 = [x*x for x in range(10)]\n",
    "print(square1)\n",
    "\n",
    "#Actually, list comprehension is much clearer and faster than filter+lambda, but can use whichever you find easier. The first thing is the function call overhead: as soon as you use a Python function (whether created by def or lambda) it is likely that the filter will be slower than the list comprehension"
   ]
  },
  {
   "cell_type": "code",
   "execution_count": 64,
   "id": "3ec6af05",
   "metadata": {},
   "outputs": [
    {
     "name": "stdout",
     "output_type": "stream",
     "text": [
      "[0, 2, 4, 6, 8, 10, 12, 14, 16, 18]\n",
      "\n",
      "using generator expression\n",
      "<generator object <genexpr> at 0x000001E308065270>\n",
      "0 2 4 6 8 10 12 14 16 18 \n",
      "Time efficinet using generator: 1.0496363999845926\n",
      "\n",
      "Time efficinet using list comprehension: 13.46985439999844\n"
     ]
    }
   ],
   "source": [
    "#Conditionals in List Comprehension\n",
    "even_num = [x for x in range(20) if x%2==0]\n",
    "print(even_num)\n",
    "\n",
    "print(\"\\nusing generator expression\")\n",
    "even_num_gen = (x for x in range(20) if x%2==0)\n",
    "print(even_num_gen)\n",
    "for i in even_num_gen:\n",
    "    print(i,end=' ')\n",
    "    \n",
    "import timeit\n",
    "print(\"\\nTime efficinet using generator:\", timeit.timeit('''gen_exp = (i for i in range(100) if i % 2 == 0)'''))\n",
    "print(\"\\nTime efficinet using list comprehension:\", timeit.timeit('''gen_exp = [i for i in range(100) if i % 2 == 0]'''))"
   ]
  },
  {
   "cell_type": "code",
   "execution_count": 66,
   "id": "b80641c7",
   "metadata": {},
   "outputs": [
    {
     "name": "stdout",
     "output_type": "stream",
     "text": [
      "[0, 10, 20, 30, 40, 50, 60, 70, 80, 90]\n"
     ]
    }
   ],
   "source": [
    "#Nested IF with List Comprehension\n",
    "num_list = [y for y in range(100) if y%2==0 if y%5==0] #If y satisfies both conditions, y is appended to num_list.\n",
    "print(num_list)"
   ]
  },
  {
   "cell_type": "code",
   "execution_count": 69,
   "id": "19214c6c",
   "metadata": {},
   "outputs": [
    {
     "name": "stdout",
     "output_type": "stream",
     "text": [
      "['even', 'odd', 'even', 'odd', 'even', 'odd', 'even', 'odd', 'even', 'odd']\n"
     ]
    }
   ],
   "source": [
    "#if...else With List Comprehension\n",
    "obj = ['even' if i%2==0 else 'odd' for i in range(10)] \n",
    "print(obj)"
   ]
  },
  {
   "cell_type": "code",
   "execution_count": 85,
   "id": "7770483b",
   "metadata": {},
   "outputs": [
    {
     "name": "stdout",
     "output_type": "stream",
     "text": [
      "[[1, 4], [2, 5], [3, 6], [4, 8]]\n",
      "\n",
      "Using list comprehension\n",
      "[[1, 4], [2, 5], [3, 6], [4, 8]]\n",
      "\n",
      "Using zip\n",
      "[(1, 4), (2, 5), (3, 6), (4, 8)]\n",
      "\n",
      "Return original matrix\n",
      "[[1, 2, 3, 4], [4, 5, 6, 8]]\n"
     ]
    }
   ],
   "source": [
    "#Nested Loops in List Comprehension\n",
    "transposed = []\n",
    "matrix = [[1,2,3,4],[4,5,6,8]]\n",
    "\n",
    "for i in range(len(matrix[0])):\n",
    "    transposed_row = []\n",
    "    for row in matrix:\n",
    "        transposed_row.append(row[i])\n",
    "    transposed.append(transposed_row)\n",
    "print(transposed)\n",
    "\n",
    "print(\"\\nUsing list comprehension\")\n",
    "trans = [[row[i] for row in matrix] for i in range(len(matrix[0]))]\n",
    "print(trans)\n",
    "\n",
    "print('\\nUsing zip')\n",
    "print(list(zip(*matrix)))\n",
    "\n",
    "print(\"\\nReturn original matrix\")\n",
    "org_mat = [[row[i] for row in trans] for i in range(2)]\n",
    "print(org_mat)"
   ]
  },
  {
   "cell_type": "code",
   "execution_count": 71,
   "id": "042b31eb",
   "metadata": {},
   "outputs": [
    {
     "data": {
      "text/plain": [
       "[(1, 3), (1, 4), (2, 3), (2, 1), (2, 4), (3, 1), (3, 4)]"
      ]
     },
     "execution_count": 71,
     "metadata": {},
     "output_type": "execute_result"
    }
   ],
   "source": [
    "[(x,y) for x in [1,2,3] for y in [3,1,4] if x != y]"
   ]
  },
  {
   "cell_type": "code",
   "execution_count": 93,
   "id": "cc5aa4a5",
   "metadata": {},
   "outputs": [
    {
     "name": "stdout",
     "output_type": "stream",
     "text": [
      "[4, 2, 0, 2, 4]\n",
      "['banana', 'loganberry', 'passion fruit']\n",
      "[(0, 0), (1, 2), (2, 4), (3, 6), (4, 8), (5, 10)]\n"
     ]
    }
   ],
   "source": [
    "vec = [-4, -2, 0, 2, 4]\n",
    "# apply a function to all the elements\n",
    "print([abs(x) for x in vec])\n",
    "\n",
    "# call a method on each element\n",
    "freshfruit = ['  banana', '  loganberry ', 'passion fruit  ']\n",
    "print([i.strip() for i in freshfruit])\n",
    "\n",
    "# create a list of 2-tuples like (number, square)\n",
    "print([(x,x*2) for x in range(6)]) # # the tuple must be parenthesized, otherwise an error is raised"
   ]
  },
  {
   "cell_type": "code",
   "execution_count": 98,
   "id": "514c88ef",
   "metadata": {},
   "outputs": [
    {
     "data": {
      "text/plain": [
       "[1, 2, 3, 4, 5, 6, 7, 8, 9]"
      ]
     },
     "execution_count": 98,
     "metadata": {},
     "output_type": "execute_result"
    }
   ],
   "source": [
    "# flatten a list using a listcomp with two 'for\n",
    "vec = [[1,2,3], [4,5,6], [7,8,9]]\n",
    "[j for i in vec for j in i ]"
   ]
  },
  {
   "cell_type": "code",
   "execution_count": 99,
   "id": "0a4ab0b7",
   "metadata": {},
   "outputs": [
    {
     "data": {
      "text/plain": [
       "['3.1', '3.14', '3.142', '3.1416', '3.14159']"
      ]
     },
     "execution_count": 99,
     "metadata": {},
     "output_type": "execute_result"
    }
   ],
   "source": [
    "from math import pi\n",
    "[str(round(pi, i)) for i in range(1, 6)]"
   ]
  },
  {
   "cell_type": "code",
   "execution_count": 100,
   "id": "3bc87453",
   "metadata": {},
   "outputs": [
    {
     "name": "stdout",
     "output_type": "stream",
     "text": [
      "['Beautigul sky', 'snow land', 'Blue sky']\n"
     ]
    }
   ],
   "source": [
    "#convert File to List Copy\n",
    "fileobj=open(\"text.txt\")\n",
    "lines=[]\n",
    "for line in fileobj:\n",
    "    lines.append(line.strip())\n",
    "print(lines)"
   ]
  },
  {
   "cell_type": "code",
   "execution_count": 101,
   "id": "bc1b0b6f",
   "metadata": {},
   "outputs": [
    {
     "data": {
      "text/plain": [
       "[[0, 1, 2, 3, 4], [0, 1, 2, 3, 4], [0, 1, 2, 3, 4]]"
      ]
     },
     "execution_count": 101,
     "metadata": {},
     "output_type": "execute_result"
    }
   ],
   "source": [
    "[[j for j in range(5)] for i in range(3)]"
   ]
  },
  {
   "cell_type": "markdown",
   "id": "da101ac1",
   "metadata": {},
   "source": [
    "**lambda in list comprehension**"
   ]
  },
  {
   "cell_type": "code",
   "execution_count": 12,
   "id": "a100eb73",
   "metadata": {},
   "outputs": [
    {
     "data": {
      "text/plain": [
       "[True, False, True, False, True, False, True, False, True, False]"
      ]
     },
     "execution_count": 12,
     "metadata": {},
     "output_type": "execute_result"
    }
   ],
   "source": [
    "[(lambda x:x%2==0)(x) for x in range(10)]"
   ]
  },
  {
   "cell_type": "code",
   "execution_count": 13,
   "id": "cd013d1e",
   "metadata": {},
   "outputs": [
    {
     "data": {
      "text/plain": [
       "[0, 1, 4, 9, 16, 25, 36, 49, 64, 81]"
      ]
     },
     "execution_count": 13,
     "metadata": {},
     "output_type": "execute_result"
    }
   ],
   "source": [
    "[(lambda x: x * x)(x) for x in range(10)]"
   ]
  },
  {
   "cell_type": "code",
   "execution_count": 6,
   "id": "8b4ef770",
   "metadata": {},
   "outputs": [
    {
     "data": {
      "text/plain": [
       "[0, 1, 4, 9, 16, 25, 36, 49, 64, 81]"
      ]
     },
     "execution_count": 6,
     "metadata": {},
     "output_type": "execute_result"
    }
   ],
   "source": [
    "[x*x for x in range(10)]"
   ]
  },
  {
   "cell_type": "code",
   "execution_count": 11,
   "id": "97ff3aa3",
   "metadata": {},
   "outputs": [
    {
     "name": "stdout",
     "output_type": "stream",
     "text": [
      "9\n"
     ]
    },
    {
     "data": {
      "text/plain": [
       "[0, 9, 18, 27]"
      ]
     },
     "execution_count": 11,
     "metadata": {},
     "output_type": "execute_result"
    }
   ],
   "source": [
    "print(x)\n",
    "[(lambda x: x * i)(x) for i in range(4)]"
   ]
  },
  {
   "cell_type": "code",
   "execution_count": null,
   "id": "8545e35b",
   "metadata": {},
   "outputs": [],
   "source": []
  }
 ],
 "metadata": {
  "kernelspec": {
   "display_name": "Python 3 (ipykernel)",
   "language": "python",
   "name": "python3"
  },
  "language_info": {
   "codemirror_mode": {
    "name": "ipython",
    "version": 3
   },
   "file_extension": ".py",
   "mimetype": "text/x-python",
   "name": "python",
   "nbconvert_exporter": "python",
   "pygments_lexer": "ipython3",
   "version": "3.9.7"
  }
 },
 "nbformat": 4,
 "nbformat_minor": 5
}
